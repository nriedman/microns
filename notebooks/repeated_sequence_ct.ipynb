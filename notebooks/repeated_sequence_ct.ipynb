{
 "cells": [
  {
   "cell_type": "code",
   "execution_count": 1,
   "metadata": {},
   "outputs": [],
   "source": [
    "import numpy as np\n",
    "import pandas as pd\n",
    "import matplotlib.pyplot as plt"
   ]
  },
  {
   "cell_type": "code",
   "execution_count": 2,
   "metadata": {},
   "outputs": [
    {
     "data": {
      "text/html": [
       "<div>\n",
       "<style scoped>\n",
       "    .dataframe tbody tr th:only-of-type {\n",
       "        vertical-align: middle;\n",
       "    }\n",
       "\n",
       "    .dataframe tbody tr th {\n",
       "        vertical-align: top;\n",
       "    }\n",
       "\n",
       "    .dataframe thead th {\n",
       "        text-align: right;\n",
       "    }\n",
       "</style>\n",
       "<table border=\"1\" class=\"dataframe\">\n",
       "  <thead>\n",
       "    <tr style=\"text-align: right;\">\n",
       "      <th></th>\n",
       "      <th>cell_type</th>\n",
       "      <th>pt_root_id</th>\n",
       "      <th>pt_x</th>\n",
       "      <th>pt_y</th>\n",
       "      <th>pt_z</th>\n",
       "    </tr>\n",
       "    <tr>\n",
       "      <th>Unnamed: 0</th>\n",
       "      <th></th>\n",
       "      <th></th>\n",
       "      <th></th>\n",
       "      <th></th>\n",
       "      <th></th>\n",
       "    </tr>\n",
       "  </thead>\n",
       "  <tbody>\n",
       "    <tr>\n",
       "      <th>0</th>\n",
       "      <td>23P</td>\n",
       "      <td>864691135639004475</td>\n",
       "      <td>71136</td>\n",
       "      <td>110528</td>\n",
       "      <td>20220</td>\n",
       "    </tr>\n",
       "    <tr>\n",
       "      <th>1</th>\n",
       "      <td>23P</td>\n",
       "      <td>864691135771677771</td>\n",
       "      <td>72576</td>\n",
       "      <td>108656</td>\n",
       "      <td>20291</td>\n",
       "    </tr>\n",
       "    <tr>\n",
       "      <th>2</th>\n",
       "      <td>23P</td>\n",
       "      <td>864691135864089470</td>\n",
       "      <td>79632</td>\n",
       "      <td>121456</td>\n",
       "      <td>16754</td>\n",
       "    </tr>\n",
       "    <tr>\n",
       "      <th>3</th>\n",
       "      <td>23P</td>\n",
       "      <td>864691135560505569</td>\n",
       "      <td>80128</td>\n",
       "      <td>124000</td>\n",
       "      <td>16563</td>\n",
       "    </tr>\n",
       "    <tr>\n",
       "      <th>4</th>\n",
       "      <td>23P</td>\n",
       "      <td>864691136315868311</td>\n",
       "      <td>80144</td>\n",
       "      <td>126928</td>\n",
       "      <td>16622</td>\n",
       "    </tr>\n",
       "  </tbody>\n",
       "</table>\n",
       "</div>"
      ],
      "text/plain": [
       "           cell_type          pt_root_id   pt_x    pt_y   pt_z\n",
       "Unnamed: 0                                                    \n",
       "0                23P  864691135639004475  71136  110528  20220\n",
       "1                23P  864691135771677771  72576  108656  20291\n",
       "2                23P  864691135864089470  79632  121456  16754\n",
       "3                23P  864691135560505569  80128  124000  16563\n",
       "4                23P  864691136315868311  80144  126928  16622"
      ]
     },
     "metadata": {},
     "output_type": "display_data"
    }
   ],
   "source": [
    "cells = pd.read_csv('data/cells_no_repeats.csv', index_col=0)\n",
    "display(cells.head())"
   ]
  },
  {
   "cell_type": "code",
   "execution_count": 30,
   "metadata": {},
   "outputs": [
    {
     "data": {
      "text/plain": [
       "cell_type\n",
       "23P      17308\n",
       "4P       12969\n",
       "5P-ET     1429\n",
       "5P-IT     8576\n",
       "5P-NP      437\n",
       "6P-CT     5414\n",
       "6P-IT    10076\n",
       "Name: count, dtype: int64"
      ]
     },
     "metadata": {},
     "output_type": "display_data"
    }
   ],
   "source": [
    "celltype_counts = cells['cell_type'].value_counts().sort_index()\n",
    "display(celltype_counts)"
   ]
  },
  {
   "cell_type": "code",
   "execution_count": 3,
   "metadata": {},
   "outputs": [],
   "source": [
    "id_to_ct_dict = {}\n",
    "for i, cell in cells.iterrows():\n",
    "    id_to_ct_dict[cell['pt_root_id']] = cell['cell_type']"
   ]
  },
  {
   "cell_type": "code",
   "execution_count": 49,
   "metadata": {},
   "outputs": [],
   "source": [
    "# Specify k\n",
    "k = 3"
   ]
  },
  {
   "cell_type": "code",
   "execution_count": 50,
   "metadata": {},
   "outputs": [
    {
     "data": {
      "text/html": [
       "<div>\n",
       "<style scoped>\n",
       "    .dataframe tbody tr th:only-of-type {\n",
       "        vertical-align: middle;\n",
       "    }\n",
       "\n",
       "    .dataframe tbody tr th {\n",
       "        vertical-align: top;\n",
       "    }\n",
       "\n",
       "    .dataframe thead th {\n",
       "        text-align: right;\n",
       "    }\n",
       "</style>\n",
       "<table border=\"1\" class=\"dataframe\">\n",
       "  <thead>\n",
       "    <tr style=\"text-align: right;\">\n",
       "      <th></th>\n",
       "      <th>sequence_rank_0</th>\n",
       "      <th>sequence_rank_1</th>\n",
       "      <th>sequence_rank_2</th>\n",
       "    </tr>\n",
       "    <tr>\n",
       "      <th>cluster_id</th>\n",
       "      <th></th>\n",
       "      <th></th>\n",
       "      <th></th>\n",
       "    </tr>\n",
       "  </thead>\n",
       "  <tbody>\n",
       "    <tr>\n",
       "      <th>0</th>\n",
       "      <td>864691135348297687</td>\n",
       "      <td>864691136418647703</td>\n",
       "      <td>864691135474761792</td>\n",
       "    </tr>\n",
       "    <tr>\n",
       "      <th>1</th>\n",
       "      <td>864691136388590711</td>\n",
       "      <td>864691136388590711</td>\n",
       "      <td>864691136388590711</td>\n",
       "    </tr>\n",
       "    <tr>\n",
       "      <th>2</th>\n",
       "      <td>864691135761545526</td>\n",
       "      <td>864691135761545526</td>\n",
       "      <td>864691136812041331</td>\n",
       "    </tr>\n",
       "    <tr>\n",
       "      <th>3</th>\n",
       "      <td>864691135772039931</td>\n",
       "      <td>864691136903065778</td>\n",
       "      <td>864691136378754261</td>\n",
       "    </tr>\n",
       "    <tr>\n",
       "      <th>4</th>\n",
       "      <td>864691136056701144</td>\n",
       "      <td>864691136422832687</td>\n",
       "      <td>864691135866412566</td>\n",
       "    </tr>\n",
       "  </tbody>\n",
       "</table>\n",
       "</div>"
      ],
      "text/plain": [
       "               sequence_rank_0     sequence_rank_1     sequence_rank_2\n",
       "cluster_id                                                            \n",
       "0           864691135348297687  864691136418647703  864691135474761792\n",
       "1           864691136388590711  864691136388590711  864691136388590711\n",
       "2           864691135761545526  864691135761545526  864691136812041331\n",
       "3           864691135772039931  864691136903065778  864691136378754261\n",
       "4           864691136056701144  864691136422832687  864691135866412566"
      ]
     },
     "metadata": {},
     "output_type": "display_data"
    }
   ],
   "source": [
    "# Import k-dependent data\n",
    "sequences = pd.read_csv(f'data/real_sequences/sequences_k{k}.csv', index_col=0)\n",
    "display(sequences.head())"
   ]
  },
  {
   "cell_type": "code",
   "execution_count": 51,
   "metadata": {},
   "outputs": [
    {
     "data": {
      "text/html": [
       "<div>\n",
       "<style scoped>\n",
       "    .dataframe tbody tr th:only-of-type {\n",
       "        vertical-align: middle;\n",
       "    }\n",
       "\n",
       "    .dataframe tbody tr th {\n",
       "        vertical-align: top;\n",
       "    }\n",
       "\n",
       "    .dataframe thead th {\n",
       "        text-align: right;\n",
       "    }\n",
       "</style>\n",
       "<table border=\"1\" class=\"dataframe\">\n",
       "  <thead>\n",
       "    <tr style=\"text-align: right;\">\n",
       "      <th></th>\n",
       "      <th>sequence_rank_0</th>\n",
       "      <th>sequence_rank_1</th>\n",
       "      <th>sequence_rank_2</th>\n",
       "    </tr>\n",
       "    <tr>\n",
       "      <th>cluster_id</th>\n",
       "      <th></th>\n",
       "      <th></th>\n",
       "      <th></th>\n",
       "    </tr>\n",
       "  </thead>\n",
       "  <tbody>\n",
       "    <tr>\n",
       "      <th>0</th>\n",
       "      <td>4P</td>\n",
       "      <td>23P</td>\n",
       "      <td>5P-IT</td>\n",
       "    </tr>\n",
       "    <tr>\n",
       "      <th>1</th>\n",
       "      <td>23P</td>\n",
       "      <td>23P</td>\n",
       "      <td>23P</td>\n",
       "    </tr>\n",
       "    <tr>\n",
       "      <th>2</th>\n",
       "      <td>23P</td>\n",
       "      <td>23P</td>\n",
       "      <td>23P</td>\n",
       "    </tr>\n",
       "    <tr>\n",
       "      <th>3</th>\n",
       "      <td>6P-CT</td>\n",
       "      <td>5P-IT</td>\n",
       "      <td>5P-ET</td>\n",
       "    </tr>\n",
       "    <tr>\n",
       "      <th>4</th>\n",
       "      <td>6P-IT</td>\n",
       "      <td>6P-IT</td>\n",
       "      <td>6P-CT</td>\n",
       "    </tr>\n",
       "  </tbody>\n",
       "</table>\n",
       "</div>"
      ],
      "text/plain": [
       "           sequence_rank_0 sequence_rank_1 sequence_rank_2\n",
       "cluster_id                                                \n",
       "0                       4P             23P           5P-IT\n",
       "1                      23P             23P             23P\n",
       "2                      23P             23P             23P\n",
       "3                    6P-CT           5P-IT           5P-ET\n",
       "4                    6P-IT           6P-IT           6P-CT"
      ]
     },
     "metadata": {},
     "output_type": "display_data"
    }
   ],
   "source": [
    "sequences_ct = sequences.copy()\n",
    "sequences_ct = sequences_ct.apply(lambda x: x.map(id_to_ct_dict))\n",
    "display(sequences_ct.head())"
   ]
  },
  {
   "cell_type": "code",
   "execution_count": 52,
   "metadata": {},
   "outputs": [
    {
     "data": {
      "text/plain": [
       "23P      86334\n",
       "4P       94028\n",
       "5P-ET    20265\n",
       "5P-IT    68246\n",
       "5P-NP     1565\n",
       "6P-CT    25238\n",
       "6P-IT    36676\n",
       "Name: count, dtype: int64"
      ]
     },
     "metadata": {},
     "output_type": "display_data"
    }
   ],
   "source": [
    "# Plot the number of times each cell type appears in the sequences\n",
    "ct_counts = sequences_ct.values.flatten()\n",
    "ct_counts = pd.Series(ct_counts).value_counts()\n",
    "ct_counts = ct_counts.sort_index()\n",
    "display(ct_counts)"
   ]
  },
  {
   "cell_type": "code",
   "execution_count": 53,
   "metadata": {},
   "outputs": [
    {
     "data": {
      "text/plain": [
       "23P       4.988098\n",
       "4P        7.250212\n",
       "5P-ET    14.181246\n",
       "5P-IT     7.957789\n",
       "5P-NP     3.581236\n",
       "6P-CT     4.661618\n",
       "6P-IT     3.639936\n",
       "Name: count, dtype: float64"
      ]
     },
     "metadata": {},
     "output_type": "display_data"
    }
   ],
   "source": [
    "sequence_participation = ct_counts / celltype_counts\n",
    "display(sequence_participation)"
   ]
  },
  {
   "cell_type": "code",
   "execution_count": 54,
   "metadata": {},
   "outputs": [
    {
     "data": {
      "image/png": "[encoded data removed]",
      "text/plain": [
       "<Figure size 1000x500 with 1 Axes>"
      ]
     },
     "metadata": {},
     "output_type": "display_data"
    }
   ],
   "source": [
    "# Plot ct_counts\n",
    "fig, ax = plt.subplots(figsize=(10, 5))\n",
    "ax.bar(ct_counts.index, ct_counts.values)\n",
    "ax.set_xlabel('Cell Type')\n",
    "ax.set_ylabel('Count')\n",
    "ax.set_title(f'Cell Type Counts in Sequences (k={k})')\n",
    "# plt.savefig(f'plots/cell_type_sequences_k{k}.png')\n",
    "plt.show()"
   ]
  },
  {
   "cell_type": "code",
   "execution_count": 55,
   "metadata": {},
   "outputs": [
    {
     "data": {
      "image/png": "[encoded data removed]",
      "text/plain": [
       "<Figure size 1000x500 with 1 Axes>"
      ]
     },
     "metadata": {},
     "output_type": "display_data"
    }
   ],
   "source": [
    "# Plot sequence participation correcting for cell type frequency\n",
    "fig, ax = plt.subplots(figsize=(10, 5))\n",
    "ax.bar(sequence_participation.index, sequence_participation.values)\n",
    "ax.set_xlabel('Cell Type')\n",
    "ax.set_ylabel('Sequence Syanpses per Cell')\n",
    "ax.set_title(f'Cell Type Counts in Sequences (k={k})')\n",
    "plt.savefig(f'plots/sequence_participation_k{k}.png')\n",
    "plt.show()"
   ]
  }
 ],
 "metadata": {
  "kernelspec": {
   "display_name": "microns",
   "language": "python",
   "name": "python3"
  },
  "language_info": {
   "codemirror_mode": {
    "name": "ipython",
    "version": 3
   },
   "file_extension": ".py",
   "mimetype": "text/x-python",
   "name": "python",
   "nbconvert_exporter": "python",
   "pygments_lexer": "ipython3",
   "version": "3.8.10"
  },
  "orig_nbformat": 4
 },
 "nbformat": 4,
 "nbformat_minor": 2
}

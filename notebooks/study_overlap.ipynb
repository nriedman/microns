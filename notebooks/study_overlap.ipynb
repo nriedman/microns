{
 "cells": [
  {
   "cell_type": "code",
   "execution_count": 1,
   "metadata": {},
   "outputs": [],
   "source": [
    "import numpy as np\n",
    "import pandas as pd\n",
    "import matplotlib.pyplot as plt"
   ]
  },
  {
   "cell_type": "code",
   "execution_count": 129,
   "metadata": {},
   "outputs": [],
   "source": [
    "# Specify k\n",
    "k = 6"
   ]
  },
  {
   "cell_type": "code",
   "execution_count": 130,
   "metadata": {},
   "outputs": [
    {
     "data": {
      "text/html": [
       "<div>\n",
       "<style scoped>\n",
       "    .dataframe tbody tr th:only-of-type {\n",
       "        vertical-align: middle;\n",
       "    }\n",
       "\n",
       "    .dataframe tbody tr th {\n",
       "        vertical-align: top;\n",
       "    }\n",
       "\n",
       "    .dataframe thead th {\n",
       "        text-align: right;\n",
       "    }\n",
       "</style>\n",
       "<table border=\"1\" class=\"dataframe\">\n",
       "  <thead>\n",
       "    <tr style=\"text-align: right;\">\n",
       "      <th></th>\n",
       "      <th>sequence</th>\n",
       "      <th>count</th>\n",
       "      <th>diversity</th>\n",
       "    </tr>\n",
       "  </thead>\n",
       "  <tbody>\n",
       "    <tr>\n",
       "      <th>0</th>\n",
       "      <td>(864691135739717012, 864691136388590711, 86469...</td>\n",
       "      <td>1</td>\n",
       "      <td>6</td>\n",
       "    </tr>\n",
       "    <tr>\n",
       "      <th>1</th>\n",
       "      <td>(864691135739717012, 864691136388590711, 86469...</td>\n",
       "      <td>1</td>\n",
       "      <td>4</td>\n",
       "    </tr>\n",
       "    <tr>\n",
       "      <th>2</th>\n",
       "      <td>(864691136378754261, 864691136903065778, 86469...</td>\n",
       "      <td>1</td>\n",
       "      <td>6</td>\n",
       "    </tr>\n",
       "    <tr>\n",
       "      <th>3</th>\n",
       "      <td>(864691136041046102, 864691136422832687, 86469...</td>\n",
       "      <td>1</td>\n",
       "      <td>5</td>\n",
       "    </tr>\n",
       "    <tr>\n",
       "      <th>4</th>\n",
       "      <td>(864691134917384458, 864691135338086118, 86469...</td>\n",
       "      <td>1</td>\n",
       "      <td>6</td>\n",
       "    </tr>\n",
       "  </tbody>\n",
       "</table>\n",
       "</div>"
      ],
      "text/plain": [
       "                                            sequence  count  diversity\n",
       "0  (864691135739717012, 864691136388590711, 86469...      1          6\n",
       "1  (864691135739717012, 864691136388590711, 86469...      1          4\n",
       "2  (864691136378754261, 864691136903065778, 86469...      1          6\n",
       "3  (864691136041046102, 864691136422832687, 86469...      1          5\n",
       "4  (864691134917384458, 864691135338086118, 86469...      1          6"
      ]
     },
     "metadata": {},
     "output_type": "display_data"
    },
    {
     "data": {
      "text/html": [
       "<div>\n",
       "<style scoped>\n",
       "    .dataframe tbody tr th:only-of-type {\n",
       "        vertical-align: middle;\n",
       "    }\n",
       "\n",
       "    .dataframe tbody tr th {\n",
       "        vertical-align: top;\n",
       "    }\n",
       "\n",
       "    .dataframe thead th {\n",
       "        text-align: right;\n",
       "    }\n",
       "</style>\n",
       "<table border=\"1\" class=\"dataframe\">\n",
       "  <thead>\n",
       "    <tr style=\"text-align: right;\">\n",
       "      <th></th>\n",
       "      <th>sequence_rank_0</th>\n",
       "      <th>sequence_rank_1</th>\n",
       "      <th>sequence_rank_2</th>\n",
       "      <th>sequence_rank_3</th>\n",
       "      <th>sequence_rank_4</th>\n",
       "      <th>sequence_rank_5</th>\n",
       "    </tr>\n",
       "    <tr>\n",
       "      <th>cluster_id</th>\n",
       "      <th></th>\n",
       "      <th></th>\n",
       "      <th></th>\n",
       "      <th></th>\n",
       "      <th></th>\n",
       "      <th></th>\n",
       "    </tr>\n",
       "  </thead>\n",
       "  <tbody>\n",
       "    <tr>\n",
       "      <th>0</th>\n",
       "      <td>864691135739717012</td>\n",
       "      <td>864691136388590711</td>\n",
       "      <td>864691135415448506</td>\n",
       "      <td>864691136740412764</td>\n",
       "      <td>864691135684083895</td>\n",
       "      <td>864691135463697733</td>\n",
       "    </tr>\n",
       "    <tr>\n",
       "      <th>1</th>\n",
       "      <td>864691135739717012</td>\n",
       "      <td>864691136388590711</td>\n",
       "      <td>864691135415448506</td>\n",
       "      <td>864691136388590711</td>\n",
       "      <td>864691136388590711</td>\n",
       "      <td>864691135420483058</td>\n",
       "    </tr>\n",
       "    <tr>\n",
       "      <th>2</th>\n",
       "      <td>864691136378754261</td>\n",
       "      <td>864691136903065778</td>\n",
       "      <td>864691135772039931</td>\n",
       "      <td>864691136740406620</td>\n",
       "      <td>864691135730118585</td>\n",
       "      <td>864691135730537145</td>\n",
       "    </tr>\n",
       "    <tr>\n",
       "      <th>3</th>\n",
       "      <td>864691136041046102</td>\n",
       "      <td>864691136422832687</td>\n",
       "      <td>864691135526099547</td>\n",
       "      <td>864691136422832687</td>\n",
       "      <td>864691136486788370</td>\n",
       "      <td>864691135866412566</td>\n",
       "    </tr>\n",
       "    <tr>\n",
       "      <th>4</th>\n",
       "      <td>864691134917384458</td>\n",
       "      <td>864691135338086118</td>\n",
       "      <td>864691136723314173</td>\n",
       "      <td>864691135937724981</td>\n",
       "      <td>864691135012855446</td>\n",
       "      <td>864691136134450827</td>\n",
       "    </tr>\n",
       "  </tbody>\n",
       "</table>\n",
       "</div>"
      ],
      "text/plain": [
       "               sequence_rank_0     sequence_rank_1     sequence_rank_2  \\\n",
       "cluster_id                                                               \n",
       "0           864691135739717012  864691136388590711  864691135415448506   \n",
       "1           864691135739717012  864691136388590711  864691135415448506   \n",
       "2           864691136378754261  864691136903065778  864691135772039931   \n",
       "3           864691136041046102  864691136422832687  864691135526099547   \n",
       "4           864691134917384458  864691135338086118  864691136723314173   \n",
       "\n",
       "               sequence_rank_3     sequence_rank_4     sequence_rank_5  \n",
       "cluster_id                                                              \n",
       "0           864691136740412764  864691135684083895  864691135463697733  \n",
       "1           864691136388590711  864691136388590711  864691135420483058  \n",
       "2           864691136740406620  864691135730118585  864691135730537145  \n",
       "3           864691136422832687  864691136486788370  864691135866412566  \n",
       "4           864691135937724981  864691135012855446  864691136134450827  "
      ]
     },
     "metadata": {},
     "output_type": "display_data"
    },
    {
     "data": {
      "text/html": [
       "<div>\n",
       "<style scoped>\n",
       "    .dataframe tbody tr th:only-of-type {\n",
       "        vertical-align: middle;\n",
       "    }\n",
       "\n",
       "    .dataframe tbody tr th {\n",
       "        vertical-align: top;\n",
       "    }\n",
       "\n",
       "    .dataframe thead th {\n",
       "        text-align: right;\n",
       "    }\n",
       "</style>\n",
       "<table border=\"1\" class=\"dataframe\">\n",
       "  <thead>\n",
       "    <tr style=\"text-align: right;\">\n",
       "      <th></th>\n",
       "      <th>synapse_id_0</th>\n",
       "      <th>synapse_id_1</th>\n",
       "      <th>synapse_id_2</th>\n",
       "      <th>synapse_id_3</th>\n",
       "      <th>synapse_id_4</th>\n",
       "      <th>synapse_id_5</th>\n",
       "      <th>density_score</th>\n",
       "      <th>post_pt_root_id</th>\n",
       "      <th>post_cell_type</th>\n",
       "      <th>centroid_x</th>\n",
       "      <th>centroid_y</th>\n",
       "      <th>centroid_z</th>\n",
       "      <th>sequence_rank_0</th>\n",
       "      <th>sequence_rank_1</th>\n",
       "      <th>sequence_rank_2</th>\n",
       "      <th>sequence_rank_3</th>\n",
       "      <th>sequence_rank_4</th>\n",
       "      <th>sequence_rank_5</th>\n",
       "    </tr>\n",
       "    <tr>\n",
       "      <th>cluster_id</th>\n",
       "      <th></th>\n",
       "      <th></th>\n",
       "      <th></th>\n",
       "      <th></th>\n",
       "      <th></th>\n",
       "      <th></th>\n",
       "      <th></th>\n",
       "      <th></th>\n",
       "      <th></th>\n",
       "      <th></th>\n",
       "      <th></th>\n",
       "      <th></th>\n",
       "      <th></th>\n",
       "      <th></th>\n",
       "      <th></th>\n",
       "      <th></th>\n",
       "      <th></th>\n",
       "      <th></th>\n",
       "    </tr>\n",
       "  </thead>\n",
       "  <tbody>\n",
       "    <tr>\n",
       "      <th>0</th>\n",
       "      <td>941001</td>\n",
       "      <td>900422</td>\n",
       "      <td>906864</td>\n",
       "      <td>932560</td>\n",
       "      <td>932857</td>\n",
       "      <td>923889</td>\n",
       "      <td>0.397512</td>\n",
       "      <td>864691134884741370</td>\n",
       "      <td>4P</td>\n",
       "      <td>572.974667</td>\n",
       "      <td>691.796667</td>\n",
       "      <td>1052.113333</td>\n",
       "      <td>864691135739717012</td>\n",
       "      <td>864691136388590711</td>\n",
       "      <td>864691135415448506</td>\n",
       "      <td>864691136740412764</td>\n",
       "      <td>864691135684083895</td>\n",
       "      <td>864691135463697733</td>\n",
       "    </tr>\n",
       "    <tr>\n",
       "      <th>1</th>\n",
       "      <td>958004</td>\n",
       "      <td>979837</td>\n",
       "      <td>932857</td>\n",
       "      <td>932560</td>\n",
       "      <td>912217</td>\n",
       "      <td>906864</td>\n",
       "      <td>0.413748</td>\n",
       "      <td>864691134884741370</td>\n",
       "      <td>4P</td>\n",
       "      <td>577.322667</td>\n",
       "      <td>692.268000</td>\n",
       "      <td>1054.240000</td>\n",
       "      <td>864691135739717012</td>\n",
       "      <td>864691136388590711</td>\n",
       "      <td>864691135415448506</td>\n",
       "      <td>864691136388590711</td>\n",
       "      <td>864691136388590711</td>\n",
       "      <td>864691135420483058</td>\n",
       "    </tr>\n",
       "    <tr>\n",
       "      <th>2</th>\n",
       "      <td>674327</td>\n",
       "      <td>704519</td>\n",
       "      <td>662648</td>\n",
       "      <td>676483</td>\n",
       "      <td>709257</td>\n",
       "      <td>678862</td>\n",
       "      <td>0.384314</td>\n",
       "      <td>864691134884742906</td>\n",
       "      <td>6P-IT</td>\n",
       "      <td>488.466000</td>\n",
       "      <td>875.476000</td>\n",
       "      <td>936.273333</td>\n",
       "      <td>864691136378754261</td>\n",
       "      <td>864691136903065778</td>\n",
       "      <td>864691135772039931</td>\n",
       "      <td>864691136740406620</td>\n",
       "      <td>864691135730118585</td>\n",
       "      <td>864691135730537145</td>\n",
       "    </tr>\n",
       "    <tr>\n",
       "      <th>3</th>\n",
       "      <td>687488</td>\n",
       "      <td>689522</td>\n",
       "      <td>657710</td>\n",
       "      <td>670465</td>\n",
       "      <td>673155</td>\n",
       "      <td>692136</td>\n",
       "      <td>0.379345</td>\n",
       "      <td>864691134884742906</td>\n",
       "      <td>6P-IT</td>\n",
       "      <td>553.638667</td>\n",
       "      <td>1000.280667</td>\n",
       "      <td>1026.933333</td>\n",
       "      <td>864691136041046102</td>\n",
       "      <td>864691136422832687</td>\n",
       "      <td>864691135526099547</td>\n",
       "      <td>864691136422832687</td>\n",
       "      <td>864691136486788370</td>\n",
       "      <td>864691135866412566</td>\n",
       "    </tr>\n",
       "    <tr>\n",
       "      <th>4</th>\n",
       "      <td>685121</td>\n",
       "      <td>2241694</td>\n",
       "      <td>711425</td>\n",
       "      <td>686754</td>\n",
       "      <td>702105</td>\n",
       "      <td>676480</td>\n",
       "      <td>0.381143</td>\n",
       "      <td>864691134884743930</td>\n",
       "      <td>6P-IT</td>\n",
       "      <td>586.533333</td>\n",
       "      <td>758.324000</td>\n",
       "      <td>750.860000</td>\n",
       "      <td>864691134917384458</td>\n",
       "      <td>864691135338086118</td>\n",
       "      <td>864691136723314173</td>\n",
       "      <td>864691135937724981</td>\n",
       "      <td>864691135012855446</td>\n",
       "      <td>864691136134450827</td>\n",
       "    </tr>\n",
       "  </tbody>\n",
       "</table>\n",
       "</div>"
      ],
      "text/plain": [
       "            synapse_id_0  synapse_id_1  synapse_id_2  synapse_id_3  \\\n",
       "cluster_id                                                           \n",
       "0                 941001        900422        906864        932560   \n",
       "1                 958004        979837        932857        932560   \n",
       "2                 674327        704519        662648        676483   \n",
       "3                 687488        689522        657710        670465   \n",
       "4                 685121       2241694        711425        686754   \n",
       "\n",
       "            synapse_id_4  synapse_id_5  density_score     post_pt_root_id  \\\n",
       "cluster_id                                                                  \n",
       "0                 932857        923889       0.397512  864691134884741370   \n",
       "1                 912217        906864       0.413748  864691134884741370   \n",
       "2                 709257        678862       0.384314  864691134884742906   \n",
       "3                 673155        692136       0.379345  864691134884742906   \n",
       "4                 702105        676480       0.381143  864691134884743930   \n",
       "\n",
       "           post_cell_type  centroid_x   centroid_y   centroid_z  \\\n",
       "cluster_id                                                        \n",
       "0                      4P  572.974667   691.796667  1052.113333   \n",
       "1                      4P  577.322667   692.268000  1054.240000   \n",
       "2                   6P-IT  488.466000   875.476000   936.273333   \n",
       "3                   6P-IT  553.638667  1000.280667  1026.933333   \n",
       "4                   6P-IT  586.533333   758.324000   750.860000   \n",
       "\n",
       "               sequence_rank_0     sequence_rank_1     sequence_rank_2  \\\n",
       "cluster_id                                                               \n",
       "0           864691135739717012  864691136388590711  864691135415448506   \n",
       "1           864691135739717012  864691136388590711  864691135415448506   \n",
       "2           864691136378754261  864691136903065778  864691135772039931   \n",
       "3           864691136041046102  864691136422832687  864691135526099547   \n",
       "4           864691134917384458  864691135338086118  864691136723314173   \n",
       "\n",
       "               sequence_rank_3     sequence_rank_4     sequence_rank_5  \n",
       "cluster_id                                                              \n",
       "0           864691136740412764  864691135684083895  864691135463697733  \n",
       "1           864691136388590711  864691136388590711  864691135420483058  \n",
       "2           864691136740406620  864691135730118585  864691135730537145  \n",
       "3           864691136422832687  864691136486788370  864691135866412566  \n",
       "4           864691135937724981  864691135012855446  864691136134450827  "
      ]
     },
     "metadata": {},
     "output_type": "display_data"
    }
   ],
   "source": [
    "# Import k-dependent data\n",
    "folder = 'high_diversity'\n",
    "sequence_counts = pd.read_csv(f'data/sequence_counts/{folder}/sequence_counts_k{k}.csv', index_col=0)\n",
    "sequences = pd.read_csv(f'data/real_sequences/sequences_k{k}.csv', index_col=0)\n",
    "clusters_w_seq = pd.read_csv(f'data/synapse_clusters/with_sequences/clusters_k{k}.csv', index_col=0)\n",
    "display(sequence_counts.head())\n",
    "display(sequences.head())\n",
    "display(clusters_w_seq.head())"
   ]
  },
  {
   "cell_type": "code",
   "execution_count": 131,
   "metadata": {},
   "outputs": [
    {
     "data": {
      "text/html": [
       "<div>\n",
       "<style scoped>\n",
       "    .dataframe tbody tr th:only-of-type {\n",
       "        vertical-align: middle;\n",
       "    }\n",
       "\n",
       "    .dataframe tbody tr th {\n",
       "        vertical-align: top;\n",
       "    }\n",
       "\n",
       "    .dataframe thead th {\n",
       "        text-align: right;\n",
       "    }\n",
       "</style>\n",
       "<table border=\"1\" class=\"dataframe\">\n",
       "  <thead>\n",
       "    <tr style=\"text-align: right;\">\n",
       "      <th></th>\n",
       "      <th>sequence</th>\n",
       "      <th>count</th>\n",
       "      <th>diversity</th>\n",
       "    </tr>\n",
       "  </thead>\n",
       "  <tbody>\n",
       "    <tr>\n",
       "      <th>21687</th>\n",
       "      <td>(864691135699524642, 864691135699524642, 86469...</td>\n",
       "      <td>2</td>\n",
       "      <td>5</td>\n",
       "    </tr>\n",
       "    <tr>\n",
       "      <th>55474</th>\n",
       "      <td>(864691136577494036, 864691135584446194, 86469...</td>\n",
       "      <td>2</td>\n",
       "      <td>4</td>\n",
       "    </tr>\n",
       "    <tr>\n",
       "      <th>56570</th>\n",
       "      <td>(864691136722356078, 864691136175499782, 86469...</td>\n",
       "      <td>2</td>\n",
       "      <td>4</td>\n",
       "    </tr>\n",
       "  </tbody>\n",
       "</table>\n",
       "</div>"
      ],
      "text/plain": [
       "                                                sequence  count  diversity\n",
       "21687  (864691135699524642, 864691135699524642, 86469...      2          5\n",
       "55474  (864691136577494036, 864691135584446194, 86469...      2          4\n",
       "56570  (864691136722356078, 864691136175499782, 86469...      2          4"
      ]
     },
     "metadata": {},
     "output_type": "display_data"
    },
    {
     "name": "stdout",
     "output_type": "stream",
     "text": [
      "(3, 3)\n"
     ]
    }
   ],
   "source": [
    "repeated_sequences = sequence_counts.loc[sequence_counts['count'] > 1]\n",
    "display(repeated_sequences.head())\n",
    "print(repeated_sequences.shape)"
   ]
  },
  {
   "cell_type": "code",
   "execution_count": 132,
   "metadata": {},
   "outputs": [
    {
     "data": {
      "text/plain": [
       "count    3.0\n",
       "mean     2.0\n",
       "std      0.0\n",
       "min      2.0\n",
       "25%      2.0\n",
       "50%      2.0\n",
       "75%      2.0\n",
       "max      2.0\n",
       "Name: count, dtype: float64"
      ]
     },
     "metadata": {},
     "output_type": "display_data"
    }
   ],
   "source": [
    "display(repeated_sequences['count'].describe())"
   ]
  },
  {
   "cell_type": "code",
   "execution_count": 133,
   "metadata": {},
   "outputs": [
    {
     "data": {
      "text/plain": [
       "cluster_id\n",
       "0    (864691135739717012, 864691136388590711, 86469...\n",
       "1    (864691135739717012, 864691136388590711, 86469...\n",
       "2    (864691136378754261, 864691136903065778, 86469...\n",
       "3    (864691136041046102, 864691136422832687, 86469...\n",
       "4    (864691134917384458, 864691135338086118, 86469...\n",
       "dtype: object"
      ]
     },
     "metadata": {},
     "output_type": "display_data"
    }
   ],
   "source": [
    "sequences_tuples = sequences.apply(lambda x: tuple(x), axis=1)\n",
    "display(sequences_tuples.head())"
   ]
  },
  {
   "cell_type": "code",
   "execution_count": 134,
   "metadata": {},
   "outputs": [],
   "source": [
    "def get_cluster_ids(all_sequences, sequence):\n",
    "    clusters = all_sequences.loc[all_sequences.apply(lambda x: (tuple(sequence) == tuple(x)) or (tuple(sequence) == tuple(x[::-1])))]\n",
    "    return clusters.index.values.astype(int)"
   ]
  },
  {
   "cell_type": "code",
   "execution_count": 135,
   "metadata": {},
   "outputs": [
    {
     "data": {
      "text/plain": [
       "21687    [864691135699524642, 864691135699524642, 86469...\n",
       "55474    [864691136577494036, 864691135584446194, 86469...\n",
       "56570    [864691136722356078, 864691136175499782, 86469...\n",
       "Name: sequence, dtype: object"
      ]
     },
     "metadata": {},
     "output_type": "display_data"
    }
   ],
   "source": [
    "repeated_sequences_ints = repeated_sequences['sequence'].apply(lambda x: [int(i) for i in x[1:-1].split(',')])\n",
    "display(repeated_sequences_ints.head())"
   ]
  },
  {
   "cell_type": "code",
   "execution_count": 136,
   "metadata": {},
   "outputs": [
    {
     "name": "stdout",
     "output_type": "stream",
     "text": [
      "3\n"
     ]
    }
   ],
   "source": [
    "syn_id_keys = [f'synapse_id_{i}' for i in range(k)]\n",
    "all_synapse_ids = clusters_w_seq[syn_id_keys]\n",
    "overlaps = []\n",
    "for i, sequence in enumerate(repeated_sequences_ints):\n",
    "    cluster_ids = get_cluster_ids(sequences_tuples, sequence)\n",
    "    cur_synapse_ids = all_synapse_ids.loc[cluster_ids]\n",
    "\n",
    "    unique_synapse_ids = len(set(cur_synapse_ids.values.flatten()))\n",
    "    total_synapse_ids = len(cur_synapse_ids.values.flatten())\n",
    "    synapse_overlap = 1 - unique_synapse_ids / total_synapse_ids\n",
    "    overlaps.append(synapse_overlap)\n",
    "print(len(overlaps))"
   ]
  },
  {
   "cell_type": "code",
   "execution_count": 138,
   "metadata": {},
   "outputs": [
    {
     "name": "stdout",
     "output_type": "stream",
     "text": [
      "[0.33333333333333337, 0.41666666666666663, 0.33333333333333337]\n"
     ]
    }
   ],
   "source": [
    "print(overlaps)"
   ]
  },
  {
   "cell_type": "code",
   "execution_count": 137,
   "metadata": {},
   "outputs": [
    {
     "name": "stdout",
     "output_type": "stream",
     "text": [
      "1\n"
     ]
    }
   ],
   "source": [
    "print(len(np.array(overlaps)[np.array(overlaps) > 0.35]))"
   ]
  }
 ],
 "metadata": {
  "kernelspec": {
   "display_name": "microns",
   "language": "python",
   "name": "python3"
  },
  "language_info": {
   "codemirror_mode": {
    "name": "ipython",
    "version": 3
   },
   "file_extension": ".py",
   "mimetype": "text/x-python",
   "name": "python",
   "nbconvert_exporter": "python",
   "pygments_lexer": "ipython3",
   "version": "3.8.10"
  },
  "orig_nbformat": 4
 },
 "nbformat": 4,
 "nbformat_minor": 2
}

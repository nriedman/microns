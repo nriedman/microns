{
 "cells": [
  {
   "cell_type": "code",
   "execution_count": 425,
   "metadata": {},
   "outputs": [],
   "source": [
    "import numpy as np\n",
    "import pandas as pd\n",
    "import matplotlib.pyplot as plt"
   ]
  },
  {
   "cell_type": "code",
   "execution_count": 554,
   "metadata": {},
   "outputs": [],
   "source": [
    "# Specify k\n",
    "k = 5"
   ]
  },
  {
   "cell_type": "code",
   "execution_count": 555,
   "metadata": {},
   "outputs": [
    {
     "name": "stdout",
     "output_type": "stream",
     "text": [
      "(74167, 16)\n"
     ]
    },
    {
     "data": {
      "text/html": [
       "<div>\n",
       "<style scoped>\n",
       "    .dataframe tbody tr th:only-of-type {\n",
       "        vertical-align: middle;\n",
       "    }\n",
       "\n",
       "    .dataframe tbody tr th {\n",
       "        vertical-align: top;\n",
       "    }\n",
       "\n",
       "    .dataframe thead th {\n",
       "        text-align: right;\n",
       "    }\n",
       "</style>\n",
       "<table border=\"1\" class=\"dataframe\">\n",
       "  <thead>\n",
       "    <tr style=\"text-align: right;\">\n",
       "      <th></th>\n",
       "      <th>synapse_id_0</th>\n",
       "      <th>synapse_id_1</th>\n",
       "      <th>synapse_id_2</th>\n",
       "      <th>synapse_id_3</th>\n",
       "      <th>synapse_id_4</th>\n",
       "      <th>density_score</th>\n",
       "      <th>post_pt_root_id</th>\n",
       "      <th>post_cell_type</th>\n",
       "      <th>centroid_x</th>\n",
       "      <th>centroid_y</th>\n",
       "      <th>centroid_z</th>\n",
       "      <th>sequence_rank_0</th>\n",
       "      <th>sequence_rank_1</th>\n",
       "      <th>sequence_rank_2</th>\n",
       "      <th>sequence_rank_3</th>\n",
       "      <th>sequence_rank_4</th>\n",
       "    </tr>\n",
       "    <tr>\n",
       "      <th>cluster_id</th>\n",
       "      <th></th>\n",
       "      <th></th>\n",
       "      <th></th>\n",
       "      <th></th>\n",
       "      <th></th>\n",
       "      <th></th>\n",
       "      <th></th>\n",
       "      <th></th>\n",
       "      <th></th>\n",
       "      <th></th>\n",
       "      <th></th>\n",
       "      <th></th>\n",
       "      <th></th>\n",
       "      <th></th>\n",
       "      <th></th>\n",
       "      <th></th>\n",
       "    </tr>\n",
       "  </thead>\n",
       "  <tbody>\n",
       "    <tr>\n",
       "      <th>0</th>\n",
       "      <td>923889</td>\n",
       "      <td>912217</td>\n",
       "      <td>906864</td>\n",
       "      <td>900422</td>\n",
       "      <td>941001</td>\n",
       "      <td>0.413845</td>\n",
       "      <td>864691134884741370</td>\n",
       "      <td>4P</td>\n",
       "      <td>573.3296</td>\n",
       "      <td>689.8856</td>\n",
       "      <td>1049.288</td>\n",
       "      <td>864691135420483058</td>\n",
       "      <td>864691135463697733</td>\n",
       "      <td>864691135415448506</td>\n",
       "      <td>864691136740412764</td>\n",
       "      <td>864691135684083895</td>\n",
       "    </tr>\n",
       "    <tr>\n",
       "      <th>1</th>\n",
       "      <td>677928</td>\n",
       "      <td>680389</td>\n",
       "      <td>677164</td>\n",
       "      <td>678984</td>\n",
       "      <td>681563</td>\n",
       "      <td>0.456460</td>\n",
       "      <td>864691134884742906</td>\n",
       "      <td>6P-IT</td>\n",
       "      <td>500.4736</td>\n",
       "      <td>1020.7520</td>\n",
       "      <td>1002.048</td>\n",
       "      <td>864691135776654432</td>\n",
       "      <td>864691135776654432</td>\n",
       "      <td>864691136973670940</td>\n",
       "      <td>864691135307087430</td>\n",
       "      <td>864691135307087430</td>\n",
       "    </tr>\n",
       "    <tr>\n",
       "      <th>2</th>\n",
       "      <td>657643</td>\n",
       "      <td>695427</td>\n",
       "      <td>680348</td>\n",
       "      <td>675225</td>\n",
       "      <td>679270</td>\n",
       "      <td>0.409908</td>\n",
       "      <td>864691134884742906</td>\n",
       "      <td>6P-IT</td>\n",
       "      <td>417.8064</td>\n",
       "      <td>574.3232</td>\n",
       "      <td>903.032</td>\n",
       "      <td>864691135404012526</td>\n",
       "      <td>864691135660521712</td>\n",
       "      <td>864691135660521712</td>\n",
       "      <td>864691135660521712</td>\n",
       "      <td>864691135660521712</td>\n",
       "    </tr>\n",
       "    <tr>\n",
       "      <th>3</th>\n",
       "      <td>674327</td>\n",
       "      <td>704519</td>\n",
       "      <td>662648</td>\n",
       "      <td>676483</td>\n",
       "      <td>709257</td>\n",
       "      <td>0.418260</td>\n",
       "      <td>864691134884742906</td>\n",
       "      <td>6P-IT</td>\n",
       "      <td>488.3336</td>\n",
       "      <td>877.0656</td>\n",
       "      <td>937.072</td>\n",
       "      <td>864691136378754261</td>\n",
       "      <td>864691136903065778</td>\n",
       "      <td>864691135772039931</td>\n",
       "      <td>864691136740406620</td>\n",
       "      <td>864691135730118585</td>\n",
       "    </tr>\n",
       "    <tr>\n",
       "      <th>4</th>\n",
       "      <td>708116</td>\n",
       "      <td>673286</td>\n",
       "      <td>684750</td>\n",
       "      <td>713306</td>\n",
       "      <td>690728</td>\n",
       "      <td>0.446153</td>\n",
       "      <td>864691134884742906</td>\n",
       "      <td>6P-IT</td>\n",
       "      <td>586.6272</td>\n",
       "      <td>744.3880</td>\n",
       "      <td>882.984</td>\n",
       "      <td>864691135488499770</td>\n",
       "      <td>864691135462245533</td>\n",
       "      <td>864691135501549378</td>\n",
       "      <td>864691134988717434</td>\n",
       "      <td>864691135855775022</td>\n",
       "    </tr>\n",
       "  </tbody>\n",
       "</table>\n",
       "</div>"
      ],
      "text/plain": [
       "            synapse_id_0  synapse_id_1  synapse_id_2  synapse_id_3  \\\n",
       "cluster_id                                                           \n",
       "0                 923889        912217        906864        900422   \n",
       "1                 677928        680389        677164        678984   \n",
       "2                 657643        695427        680348        675225   \n",
       "3                 674327        704519        662648        676483   \n",
       "4                 708116        673286        684750        713306   \n",
       "\n",
       "            synapse_id_4  density_score     post_pt_root_id post_cell_type  \\\n",
       "cluster_id                                                                   \n",
       "0                 941001       0.413845  864691134884741370             4P   \n",
       "1                 681563       0.456460  864691134884742906          6P-IT   \n",
       "2                 679270       0.409908  864691134884742906          6P-IT   \n",
       "3                 709257       0.418260  864691134884742906          6P-IT   \n",
       "4                 690728       0.446153  864691134884742906          6P-IT   \n",
       "\n",
       "            centroid_x  centroid_y  centroid_z     sequence_rank_0  \\\n",
       "cluster_id                                                           \n",
       "0             573.3296    689.8856    1049.288  864691135420483058   \n",
       "1             500.4736   1020.7520    1002.048  864691135776654432   \n",
       "2             417.8064    574.3232     903.032  864691135404012526   \n",
       "3             488.3336    877.0656     937.072  864691136378754261   \n",
       "4             586.6272    744.3880     882.984  864691135488499770   \n",
       "\n",
       "               sequence_rank_1     sequence_rank_2     sequence_rank_3  \\\n",
       "cluster_id                                                               \n",
       "0           864691135463697733  864691135415448506  864691136740412764   \n",
       "1           864691135776654432  864691136973670940  864691135307087430   \n",
       "2           864691135660521712  864691135660521712  864691135660521712   \n",
       "3           864691136903065778  864691135772039931  864691136740406620   \n",
       "4           864691135462245533  864691135501549378  864691134988717434   \n",
       "\n",
       "               sequence_rank_4  \n",
       "cluster_id                      \n",
       "0           864691135684083895  \n",
       "1           864691135307087430  \n",
       "2           864691135660521712  \n",
       "3           864691135730118585  \n",
       "4           864691135855775022  "
      ]
     },
     "metadata": {},
     "output_type": "display_data"
    }
   ],
   "source": [
    "# Import k-dependent data\n",
    "path = f'data/synapse_clusters/with_sequences/clusters_k{k}.csv'\n",
    "clusters_w_seq = pd.read_csv(path, index_col=0)\n",
    "print(clusters_w_seq.shape)\n",
    "display(clusters_w_seq.head())"
   ]
  },
  {
   "cell_type": "code",
   "execution_count": 556,
   "metadata": {},
   "outputs": [
    {
     "data": {
      "text/plain": [
       "(864691134884741370,\n",
       " 864691135420483058,\n",
       " 864691135463697733,\n",
       " 864691135415448506,\n",
       " 864691136740412764,\n",
       " 864691135684083895)"
      ]
     },
     "execution_count": 556,
     "metadata": {},
     "output_type": "execute_result"
    }
   ],
   "source": [
    "864691134884741370, 864691135420483058, 864691135463697733, 864691135415448506, 864691136740412764, 864691135684083895"
   ]
  },
  {
   "cell_type": "code",
   "execution_count": 557,
   "metadata": {},
   "outputs": [
    {
     "data": {
      "text/plain": [
       "array([143332.4, 172471.4,  26232.2])"
      ]
     },
     "execution_count": 557,
     "metadata": {},
     "output_type": "execute_result"
    }
   ],
   "source": [
    "np.matmul(np.array([573.3296, 689.8856, 1049.288]), np.diag([1000/4, 1000/4, 1000/40]))"
   ]
  },
  {
   "cell_type": "code",
   "execution_count": 558,
   "metadata": {},
   "outputs": [
    {
     "data": {
      "text/plain": [
       "synapse_id_0                   923889\n",
       "synapse_id_1                   912217\n",
       "synapse_id_2                   906864\n",
       "synapse_id_3                   900422\n",
       "synapse_id_4                   941001\n",
       "density_score                0.413845\n",
       "post_pt_root_id    864691134884741370\n",
       "post_cell_type                     4P\n",
       "centroid_x                   573.3296\n",
       "centroid_y                   689.8856\n",
       "centroid_z                   1049.288\n",
       "sequence_rank_0    864691135420483058\n",
       "sequence_rank_1    864691135463697733\n",
       "sequence_rank_2    864691135415448506\n",
       "sequence_rank_3    864691136740412764\n",
       "sequence_rank_4    864691135684083895\n",
       "Name: 0, dtype: object"
      ]
     },
     "metadata": {},
     "output_type": "display_data"
    }
   ],
   "source": [
    "display(clusters_w_seq.iloc[0])"
   ]
  },
  {
   "cell_type": "code",
   "execution_count": 559,
   "metadata": {},
   "outputs": [
    {
     "name": "stdout",
     "output_type": "stream",
     "text": [
      "(74167, 5)\n"
     ]
    },
    {
     "data": {
      "text/html": [
       "<div>\n",
       "<style scoped>\n",
       "    .dataframe tbody tr th:only-of-type {\n",
       "        vertical-align: middle;\n",
       "    }\n",
       "\n",
       "    .dataframe tbody tr th {\n",
       "        vertical-align: top;\n",
       "    }\n",
       "\n",
       "    .dataframe thead th {\n",
       "        text-align: right;\n",
       "    }\n",
       "</style>\n",
       "<table border=\"1\" class=\"dataframe\">\n",
       "  <thead>\n",
       "    <tr style=\"text-align: right;\">\n",
       "      <th></th>\n",
       "      <th>sequence_rank_0</th>\n",
       "      <th>sequence_rank_1</th>\n",
       "      <th>sequence_rank_2</th>\n",
       "      <th>sequence_rank_3</th>\n",
       "      <th>sequence_rank_4</th>\n",
       "    </tr>\n",
       "    <tr>\n",
       "      <th>cluster_id</th>\n",
       "      <th></th>\n",
       "      <th></th>\n",
       "      <th></th>\n",
       "      <th></th>\n",
       "      <th></th>\n",
       "    </tr>\n",
       "  </thead>\n",
       "  <tbody>\n",
       "    <tr>\n",
       "      <th>0</th>\n",
       "      <td>864691135420483058</td>\n",
       "      <td>864691135463697733</td>\n",
       "      <td>864691135415448506</td>\n",
       "      <td>864691136740412764</td>\n",
       "      <td>864691135684083895</td>\n",
       "    </tr>\n",
       "    <tr>\n",
       "      <th>1</th>\n",
       "      <td>864691135776654432</td>\n",
       "      <td>864691135776654432</td>\n",
       "      <td>864691136973670940</td>\n",
       "      <td>864691135307087430</td>\n",
       "      <td>864691135307087430</td>\n",
       "    </tr>\n",
       "    <tr>\n",
       "      <th>2</th>\n",
       "      <td>864691135404012526</td>\n",
       "      <td>864691135660521712</td>\n",
       "      <td>864691135660521712</td>\n",
       "      <td>864691135660521712</td>\n",
       "      <td>864691135660521712</td>\n",
       "    </tr>\n",
       "    <tr>\n",
       "      <th>3</th>\n",
       "      <td>864691136378754261</td>\n",
       "      <td>864691136903065778</td>\n",
       "      <td>864691135772039931</td>\n",
       "      <td>864691136740406620</td>\n",
       "      <td>864691135730118585</td>\n",
       "    </tr>\n",
       "    <tr>\n",
       "      <th>4</th>\n",
       "      <td>864691135488499770</td>\n",
       "      <td>864691135462245533</td>\n",
       "      <td>864691135501549378</td>\n",
       "      <td>864691134988717434</td>\n",
       "      <td>864691135855775022</td>\n",
       "    </tr>\n",
       "  </tbody>\n",
       "</table>\n",
       "</div>"
      ],
      "text/plain": [
       "               sequence_rank_0     sequence_rank_1     sequence_rank_2  \\\n",
       "cluster_id                                                               \n",
       "0           864691135420483058  864691135463697733  864691135415448506   \n",
       "1           864691135776654432  864691135776654432  864691136973670940   \n",
       "2           864691135404012526  864691135660521712  864691135660521712   \n",
       "3           864691136378754261  864691136903065778  864691135772039931   \n",
       "4           864691135488499770  864691135462245533  864691135501549378   \n",
       "\n",
       "               sequence_rank_3     sequence_rank_4  \n",
       "cluster_id                                          \n",
       "0           864691136740412764  864691135684083895  \n",
       "1           864691135307087430  864691135307087430  \n",
       "2           864691135660521712  864691135660521712  \n",
       "3           864691136740406620  864691135730118585  \n",
       "4           864691134988717434  864691135855775022  "
      ]
     },
     "metadata": {},
     "output_type": "display_data"
    }
   ],
   "source": [
    "# Slim down to just the sequences\n",
    "seq_keys = [f'sequence_rank_{i}' for i in range(k)]\n",
    "sequences = clusters_w_seq[seq_keys]\n",
    "print(sequences.shape)\n",
    "display(sequences.head())\n",
    "# sequences.to_csv(f'data/real_sequences/sequences_k{k}.csv')"
   ]
  },
  {
   "cell_type": "code",
   "execution_count": 560,
   "metadata": {},
   "outputs": [],
   "source": [
    "# Count the number of repeated sequences\n",
    "def count_appearances(sequences):\n",
    "    counts = {}\n",
    "    for sequence in sequences.to_numpy():\n",
    "        sequence = tuple(sequence)\n",
    "        if sequence in counts:\n",
    "            counts[sequence] += 1\n",
    "        elif sequence[::-1] in counts:\n",
    "            counts[sequence[::-1]] += 1\n",
    "        else:\n",
    "            counts[sequence] = 1\n",
    "    return counts"
   ]
  },
  {
   "cell_type": "code",
   "execution_count": 561,
   "metadata": {},
   "outputs": [
    {
     "name": "stdout",
     "output_type": "stream",
     "text": [
      "Total repeats: 2471\n"
     ]
    }
   ],
   "source": [
    "appearances = count_appearances(sequences)\n",
    "appearance_counts = np.array(list(appearances.values()))\n",
    "repeat_counts = appearance_counts[appearance_counts > 1]\n",
    "total_repeats = np.sum(repeat_counts)\n",
    "print(f'Total repeats: {total_repeats}')"
   ]
  },
  {
   "cell_type": "code",
   "execution_count": 562,
   "metadata": {},
   "outputs": [
    {
     "data": {
      "text/html": [
       "<div>\n",
       "<style scoped>\n",
       "    .dataframe tbody tr th:only-of-type {\n",
       "        vertical-align: middle;\n",
       "    }\n",
       "\n",
       "    .dataframe tbody tr th {\n",
       "        vertical-align: top;\n",
       "    }\n",
       "\n",
       "    .dataframe thead th {\n",
       "        text-align: right;\n",
       "    }\n",
       "</style>\n",
       "<table border=\"1\" class=\"dataframe\">\n",
       "  <thead>\n",
       "    <tr style=\"text-align: right;\">\n",
       "      <th></th>\n",
       "      <th>pre_pt_root_id_0</th>\n",
       "      <th>pre_pt_root_id_1</th>\n",
       "      <th>pre_pt_root_id_2</th>\n",
       "      <th>pre_pt_root_id_3</th>\n",
       "      <th>pre_pt_root_id_4</th>\n",
       "    </tr>\n",
       "    <tr>\n",
       "      <th>cluster_id</th>\n",
       "      <th></th>\n",
       "      <th></th>\n",
       "      <th></th>\n",
       "      <th></th>\n",
       "      <th></th>\n",
       "    </tr>\n",
       "  </thead>\n",
       "  <tbody>\n",
       "    <tr>\n",
       "      <th>0</th>\n",
       "      <td>864691135463697733</td>\n",
       "      <td>864691135420483058</td>\n",
       "      <td>864691135415448506</td>\n",
       "      <td>864691136740412764</td>\n",
       "      <td>864691135684083895</td>\n",
       "    </tr>\n",
       "    <tr>\n",
       "      <th>1</th>\n",
       "      <td>864691135776654432</td>\n",
       "      <td>864691135776654432</td>\n",
       "      <td>864691136973670940</td>\n",
       "      <td>864691135307087430</td>\n",
       "      <td>864691135307087430</td>\n",
       "    </tr>\n",
       "    <tr>\n",
       "      <th>2</th>\n",
       "      <td>864691135660521712</td>\n",
       "      <td>864691135660521712</td>\n",
       "      <td>864691135404012526</td>\n",
       "      <td>864691135660521712</td>\n",
       "      <td>864691135660521712</td>\n",
       "    </tr>\n",
       "    <tr>\n",
       "      <th>3</th>\n",
       "      <td>864691136378754261</td>\n",
       "      <td>864691136903065778</td>\n",
       "      <td>864691135772039931</td>\n",
       "      <td>864691136740406620</td>\n",
       "      <td>864691135730118585</td>\n",
       "    </tr>\n",
       "    <tr>\n",
       "      <th>4</th>\n",
       "      <td>864691135488499770</td>\n",
       "      <td>864691135462245533</td>\n",
       "      <td>864691135501549378</td>\n",
       "      <td>864691134988717434</td>\n",
       "      <td>864691135855775022</td>\n",
       "    </tr>\n",
       "  </tbody>\n",
       "</table>\n",
       "</div>"
      ],
      "text/plain": [
       "              pre_pt_root_id_0    pre_pt_root_id_1    pre_pt_root_id_2  \\\n",
       "cluster_id                                                               \n",
       "0           864691135463697733  864691135420483058  864691135415448506   \n",
       "1           864691135776654432  864691135776654432  864691136973670940   \n",
       "2           864691135660521712  864691135660521712  864691135404012526   \n",
       "3           864691136378754261  864691136903065778  864691135772039931   \n",
       "4           864691135488499770  864691135462245533  864691135501549378   \n",
       "\n",
       "              pre_pt_root_id_3    pre_pt_root_id_4  \n",
       "cluster_id                                          \n",
       "0           864691136740412764  864691135684083895  \n",
       "1           864691135307087430  864691135307087430  \n",
       "2           864691135660521712  864691135660521712  \n",
       "3           864691136740406620  864691135730118585  \n",
       "4           864691134988717434  864691135855775022  "
      ]
     },
     "metadata": {},
     "output_type": "display_data"
    }
   ],
   "source": [
    "# Create id --> unicode mapping\n",
    "clusters_w_id = pd.read_csv(f'data/synapse_clusters/with_pre_ids/clusters_k{k}.csv', index_col=0)\n",
    "key_ids = [f'pre_pt_root_id_{i}' for i in range(k)]\n",
    "cluster_ids = clusters_w_id[key_ids]\n",
    "display(cluster_ids.head())"
   ]
  },
  {
   "cell_type": "code",
   "execution_count": 563,
   "metadata": {},
   "outputs": [
    {
     "name": "stdout",
     "output_type": "stream",
     "text": [
      "35548\n"
     ]
    }
   ],
   "source": [
    "unique_ids = set(cluster_ids.values.flatten())\n",
    "print(len(unique_ids))"
   ]
  },
  {
   "cell_type": "code",
   "execution_count": 564,
   "metadata": {},
   "outputs": [],
   "source": [
    "unicode_to_id = {chr(char): pre_id for char, pre_id in enumerate(unique_ids)}\n",
    "id_to_unicode = {pre_id: chr(char) for char, pre_id in enumerate(unique_ids)}"
   ]
  },
  {
   "cell_type": "code",
   "execution_count": 565,
   "metadata": {},
   "outputs": [],
   "source": [
    "# Print the keys of appearances with the highest values\n",
    "def print_top_appearances(appearances, n=10):\n",
    "    sorted_appearances = sorted(appearances.items(), key=lambda x: x[1], reverse=True)\n",
    "    for sequence, count in sorted_appearances[:n]:\n",
    "        mapped_sequence = [id_to_unicode[pre_id] for pre_id in sequence]\n",
    "        print(f'{mapped_sequence}: {count}')"
   ]
  },
  {
   "cell_type": "code",
   "execution_count": 566,
   "metadata": {},
   "outputs": [
    {
     "name": "stdout",
     "output_type": "stream",
     "text": [
      "['ႁ', 'ႁ', 'ႁ', 'ႁ', 'ႁ']: 76\n",
      "['ႄ', 'ႄ', 'ႄ', 'ႄ', 'ႄ']: 47\n",
      "['嗜', '嗜', '嗜', '嗜', '嗜']: 35\n",
      "['橡', '橡', '橡', '橡', '橡']: 33\n",
      "['娦', '娦', '娦', '娦', '娦']: 29\n",
      "['䎱', '䎱', '䎱', '䎱', '䎱']: 26\n",
      "['眔', '眔', '眔', '眔', '眔']: 26\n",
      "['㷔', '㷔', '㷔', '㷔', '㷔']: 26\n",
      "['⺺', '⺺', '⺺', '⺺', '⺺']: 24\n",
      "['寈', '寈', '寈', '寈', '寈']: 23\n"
     ]
    }
   ],
   "source": [
    "print_top_appearances(appearances)"
   ]
  },
  {
   "cell_type": "code",
   "execution_count": 567,
   "metadata": {},
   "outputs": [
    {
     "data": {
      "image/png": "[encoded data removed]",
      "text/plain": [
       "<Figure size 640x480 with 1 Axes>"
      ]
     },
     "metadata": {},
     "output_type": "display_data"
    }
   ],
   "source": [
    "plt.hist(repeat_counts, bins=100)\n",
    "plt.title(f'Number of repeats per sequence (k={k})')\n",
    "plt.xlabel('Number of repeats')\n",
    "plt.ylabel('Number of sequences')\n",
    "# plt.savefig(f'repeats_per_sequence_k{k}.png')\n",
    "plt.show()"
   ]
  },
  {
   "cell_type": "code",
   "execution_count": 568,
   "metadata": {},
   "outputs": [
    {
     "data": {
      "text/html": [
       "<div>\n",
       "<style scoped>\n",
       "    .dataframe tbody tr th:only-of-type {\n",
       "        vertical-align: middle;\n",
       "    }\n",
       "\n",
       "    .dataframe tbody tr th {\n",
       "        vertical-align: top;\n",
       "    }\n",
       "\n",
       "    .dataframe thead th {\n",
       "        text-align: right;\n",
       "    }\n",
       "</style>\n",
       "<table border=\"1\" class=\"dataframe\">\n",
       "  <thead>\n",
       "    <tr style=\"text-align: right;\">\n",
       "      <th></th>\n",
       "      <th>sequence</th>\n",
       "      <th>count</th>\n",
       "      <th>diversity</th>\n",
       "    </tr>\n",
       "  </thead>\n",
       "  <tbody>\n",
       "    <tr>\n",
       "      <th>0</th>\n",
       "      <td>(864691135420483058, 864691135463697733, 86469...</td>\n",
       "      <td>1</td>\n",
       "      <td>5</td>\n",
       "    </tr>\n",
       "    <tr>\n",
       "      <th>1</th>\n",
       "      <td>(864691135776654432, 864691135776654432, 86469...</td>\n",
       "      <td>1</td>\n",
       "      <td>3</td>\n",
       "    </tr>\n",
       "    <tr>\n",
       "      <th>2</th>\n",
       "      <td>(864691135404012526, 864691135660521712, 86469...</td>\n",
       "      <td>1</td>\n",
       "      <td>2</td>\n",
       "    </tr>\n",
       "    <tr>\n",
       "      <th>3</th>\n",
       "      <td>(864691136378754261, 864691136903065778, 86469...</td>\n",
       "      <td>1</td>\n",
       "      <td>5</td>\n",
       "    </tr>\n",
       "    <tr>\n",
       "      <th>4</th>\n",
       "      <td>(864691135488499770, 864691135462245533, 86469...</td>\n",
       "      <td>1</td>\n",
       "      <td>5</td>\n",
       "    </tr>\n",
       "  </tbody>\n",
       "</table>\n",
       "</div>"
      ],
      "text/plain": [
       "                                            sequence  count  diversity\n",
       "0  (864691135420483058, 864691135463697733, 86469...      1          5\n",
       "1  (864691135776654432, 864691135776654432, 86469...      1          3\n",
       "2  (864691135404012526, 864691135660521712, 86469...      1          2\n",
       "3  (864691136378754261, 864691136903065778, 86469...      1          5\n",
       "4  (864691135488499770, 864691135462245533, 86469...      1          5"
      ]
     },
     "metadata": {},
     "output_type": "display_data"
    }
   ],
   "source": [
    "appearances_df = pd.DataFrame(appearances.items(), columns=['sequence', 'count'])\n",
    "appearances_df.loc[:, 'diversity'] = appearances_df['sequence'].apply(lambda x: len(set(x)))\n",
    "display(appearances_df.head())"
   ]
  },
  {
   "cell_type": "code",
   "execution_count": 569,
   "metadata": {},
   "outputs": [],
   "source": [
    "# appearances_df.to_csv(f'data/sequence_counts/sequence_counts_k{k}.csv')"
   ]
  },
  {
   "cell_type": "code",
   "execution_count": 570,
   "metadata": {},
   "outputs": [],
   "source": [
    "# Specify required diversity for sequences\n",
    "diversity_thresh = 0.5\n",
    "required_diversity = diversity_thresh * k"
   ]
  },
  {
   "cell_type": "code",
   "execution_count": 593,
   "metadata": {},
   "outputs": [
    {
     "name": "stdout",
     "output_type": "stream",
     "text": [
      "(72408, 3)\n",
      "(62743, 3)\n"
     ]
    },
    {
     "data": {
      "text/html": [
       "<div>\n",
       "<style scoped>\n",
       "    .dataframe tbody tr th:only-of-type {\n",
       "        vertical-align: middle;\n",
       "    }\n",
       "\n",
       "    .dataframe tbody tr th {\n",
       "        vertical-align: top;\n",
       "    }\n",
       "\n",
       "    .dataframe thead th {\n",
       "        text-align: right;\n",
       "    }\n",
       "</style>\n",
       "<table border=\"1\" class=\"dataframe\">\n",
       "  <thead>\n",
       "    <tr style=\"text-align: right;\">\n",
       "      <th></th>\n",
       "      <th>sequence</th>\n",
       "      <th>count</th>\n",
       "      <th>diversity</th>\n",
       "    </tr>\n",
       "  </thead>\n",
       "  <tbody>\n",
       "    <tr>\n",
       "      <th>0</th>\n",
       "      <td>(864691135420483058, 864691135463697733, 86469...</td>\n",
       "      <td>1</td>\n",
       "      <td>5</td>\n",
       "    </tr>\n",
       "    <tr>\n",
       "      <th>1</th>\n",
       "      <td>(864691135776654432, 864691135776654432, 86469...</td>\n",
       "      <td>1</td>\n",
       "      <td>3</td>\n",
       "    </tr>\n",
       "    <tr>\n",
       "      <th>3</th>\n",
       "      <td>(864691136378754261, 864691136903065778, 86469...</td>\n",
       "      <td>1</td>\n",
       "      <td>5</td>\n",
       "    </tr>\n",
       "    <tr>\n",
       "      <th>4</th>\n",
       "      <td>(864691135488499770, 864691135462245533, 86469...</td>\n",
       "      <td>1</td>\n",
       "      <td>5</td>\n",
       "    </tr>\n",
       "    <tr>\n",
       "      <th>5</th>\n",
       "      <td>(864691135585153148, 864691135570709485, 86469...</td>\n",
       "      <td>1</td>\n",
       "      <td>5</td>\n",
       "    </tr>\n",
       "  </tbody>\n",
       "</table>\n",
       "</div>"
      ],
      "text/plain": [
       "                                            sequence  count  diversity\n",
       "0  (864691135420483058, 864691135463697733, 86469...      1          5\n",
       "1  (864691135776654432, 864691135776654432, 86469...      1          3\n",
       "3  (864691136378754261, 864691136903065778, 86469...      1          5\n",
       "4  (864691135488499770, 864691135462245533, 86469...      1          5\n",
       "5  (864691135585153148, 864691135570709485, 86469...      1          5"
      ]
     },
     "metadata": {},
     "output_type": "display_data"
    }
   ],
   "source": [
    "high_diversity_df = appearances_df[appearances_df['diversity'] > required_diversity]\n",
    "print(appearances_df.shape)\n",
    "print(high_diversity_df.shape)\n",
    "display(high_diversity_df.head())"
   ]
  },
  {
   "cell_type": "code",
   "execution_count": 572,
   "metadata": {},
   "outputs": [
    {
     "name": "stdout",
     "output_type": "stream",
     "text": [
      "Total high diversity repeats: 48\n"
     ]
    }
   ],
   "source": [
    "high_div_appearance_counts = high_diversity_df['count'].to_numpy()\n",
    "high_div_repeat_counts = high_div_appearance_counts[high_div_appearance_counts > 1]\n",
    "high_div_total_repeats = np.sum(high_div_repeat_counts)\n",
    "print(f'Total high diversity repeats: {high_div_total_repeats}')"
   ]
  },
  {
   "cell_type": "code",
   "execution_count": 602,
   "metadata": {},
   "outputs": [
    {
     "data": {
      "text/html": [
       "<div>\n",
       "<style scoped>\n",
       "    .dataframe tbody tr th:only-of-type {\n",
       "        vertical-align: middle;\n",
       "    }\n",
       "\n",
       "    .dataframe tbody tr th {\n",
       "        vertical-align: top;\n",
       "    }\n",
       "\n",
       "    .dataframe thead th {\n",
       "        text-align: right;\n",
       "    }\n",
       "</style>\n",
       "<table border=\"1\" class=\"dataframe\">\n",
       "  <thead>\n",
       "    <tr style=\"text-align: right;\">\n",
       "      <th></th>\n",
       "      <th>sequence</th>\n",
       "      <th>count</th>\n",
       "      <th>diversity</th>\n",
       "    </tr>\n",
       "  </thead>\n",
       "  <tbody>\n",
       "    <tr>\n",
       "      <th>66245</th>\n",
       "      <td>(864691136123673382, 864691135939799462, 86469...</td>\n",
       "      <td>2</td>\n",
       "      <td>5</td>\n",
       "    </tr>\n",
       "  </tbody>\n",
       "</table>\n",
       "</div>"
      ],
      "text/plain": [
       "                                                sequence  count  diversity\n",
       "66245  (864691136123673382, 864691135939799462, 86469...      2          5"
      ]
     },
     "metadata": {},
     "output_type": "display_data"
    }
   ],
   "source": [
    "display(high_diversity_df.loc[high_diversity_df['count'] > 1].loc[high_diversity_df['diversity'] == 5])"
   ]
  },
  {
   "cell_type": "code",
   "execution_count": 574,
   "metadata": {},
   "outputs": [
    {
     "data": {
      "text/html": [
       "<div>\n",
       "<style scoped>\n",
       "    .dataframe tbody tr th:only-of-type {\n",
       "        vertical-align: middle;\n",
       "    }\n",
       "\n",
       "    .dataframe tbody tr th {\n",
       "        vertical-align: top;\n",
       "    }\n",
       "\n",
       "    .dataframe thead th {\n",
       "        text-align: right;\n",
       "    }\n",
       "</style>\n",
       "<table border=\"1\" class=\"dataframe\">\n",
       "  <thead>\n",
       "    <tr style=\"text-align: right;\">\n",
       "      <th></th>\n",
       "      <th>sequence</th>\n",
       "      <th>count</th>\n",
       "      <th>diversity</th>\n",
       "    </tr>\n",
       "  </thead>\n",
       "  <tbody>\n",
       "    <tr>\n",
       "      <th>1620</th>\n",
       "      <td>(864691134988824442, 864691134988824442, 86469...</td>\n",
       "      <td>5</td>\n",
       "      <td>1</td>\n",
       "    </tr>\n",
       "    <tr>\n",
       "      <th>2749</th>\n",
       "      <td>(864691135081755639, 864691135081755639, 86469...</td>\n",
       "      <td>5</td>\n",
       "      <td>1</td>\n",
       "    </tr>\n",
       "    <tr>\n",
       "      <th>3160</th>\n",
       "      <td>(864691135848136286, 864691135848136286, 86469...</td>\n",
       "      <td>5</td>\n",
       "      <td>1</td>\n",
       "    </tr>\n",
       "    <tr>\n",
       "      <th>6180</th>\n",
       "      <td>(864691135181703682, 864691135181703682, 86469...</td>\n",
       "      <td>5</td>\n",
       "      <td>1</td>\n",
       "    </tr>\n",
       "    <tr>\n",
       "      <th>6963</th>\n",
       "      <td>(864691135585414780, 864691135585414780, 86469...</td>\n",
       "      <td>5</td>\n",
       "      <td>1</td>\n",
       "    </tr>\n",
       "  </tbody>\n",
       "</table>\n",
       "</div>"
      ],
      "text/plain": [
       "                                               sequence  count  diversity\n",
       "1620  (864691134988824442, 864691134988824442, 86469...      5          1\n",
       "2749  (864691135081755639, 864691135081755639, 86469...      5          1\n",
       "3160  (864691135848136286, 864691135848136286, 86469...      5          1\n",
       "6180  (864691135181703682, 864691135181703682, 86469...      5          1\n",
       "6963  (864691135585414780, 864691135585414780, 86469...      5          1"
      ]
     },
     "metadata": {},
     "output_type": "display_data"
    },
    {
     "data": {
      "text/plain": [
       "1620     [౼, ౼, ౼, ౼, ౼]\n",
       "2749     [඗, ඗, ඗, ඗, ඗]\n",
       "3160     [ဿ, ဿ, ဿ, ဿ, ဿ]\n",
       "6180     [嬢, 嬢, 嬢, 嬢, 嬢]\n",
       "6963     [撞, 撞, 撞, 撞, 撞]\n",
       "10686    [吮, 吮, 吮, 吮, 吮]\n",
       "12121    [ὁ, ὁ, ὁ, ὁ, ὁ]\n",
       "13286    [⽽, ⽽, ⽽, ⽽, ⽽]\n",
       "16098    [ɜ, ɜ, ɜ, ɜ, ɜ]\n",
       "17381    [橈, 橈, 橈, 橈, 橈]\n",
       "18031    [寊, 寊, 寊, 寊, 寊]\n",
       "21287    [㰶, 㰶, 㰶, 㰶, 㰶]\n",
       "24168    [䢫, 䢫, 䢫, 䢫, 䢫]\n",
       "24714    [夶, 夶, 夶, 夶, 夶]\n",
       "Name: sequence, dtype: object"
      ]
     },
     "metadata": {},
     "output_type": "display_data"
    },
    {
     "name": "stdout",
     "output_type": "stream",
     "text": [
      "(14,)\n"
     ]
    }
   ],
   "source": [
    "n = 5\n",
    "n_repeats = appearances_df[appearances_df['count'] == n]\n",
    "n_repeats_chars = n_repeats['sequence'].apply(lambda x: [id_to_unicode[pre_id] for pre_id in x])\n",
    "display(n_repeats.head())\n",
    "display(n_repeats_chars)\n",
    "print(n_repeats_chars.shape)"
   ]
  },
  {
   "cell_type": "code",
   "execution_count": 575,
   "metadata": {},
   "outputs": [
    {
     "data": {
      "text/plain": [
       "count    14.0\n",
       "mean      1.0\n",
       "std       0.0\n",
       "min       1.0\n",
       "25%       1.0\n",
       "50%       1.0\n",
       "75%       1.0\n",
       "max       1.0\n",
       "Name: sequence, dtype: float64"
      ]
     },
     "metadata": {},
     "output_type": "display_data"
    },
    {
     "data": {
      "text/plain": [
       "<AxesSubplot:>"
      ]
     },
     "execution_count": 575,
     "metadata": {},
     "output_type": "execute_result"
    },
    {
     "data": {
      "image/png": "[encoded data removed]",
      "text/plain": [
       "<Figure size 640x480 with 1 Axes>"
      ]
     },
     "metadata": {},
     "output_type": "display_data"
    }
   ],
   "source": [
    "n_repeats_diversity = n_repeats_chars.apply(lambda x: len(set(x)))\n",
    "n_repeats_high_div = n_repeats_diversity[n_repeats_diversity > 3]\n",
    "display(n_repeats_diversity.describe())\n",
    "n_repeats_high_div.hist(bins=2)"
   ]
  },
  {
   "cell_type": "code",
   "execution_count": 576,
   "metadata": {},
   "outputs": [
    {
     "data": {
      "text/plain": [
       "Series([], Name: sequence, dtype: object)"
      ]
     },
     "execution_count": 576,
     "metadata": {},
     "output_type": "execute_result"
    }
   ],
   "source": [
    "n_repeats_chars.loc[n_repeats_diversity > 3]"
   ]
  },
  {
   "cell_type": "code",
   "execution_count": 577,
   "metadata": {},
   "outputs": [],
   "source": [
    "# Filter out sequences that don't meet the diversity threshold\n",
    "def filter_sequences(sequences, appearances, required_diversity):\n",
    "    filtered_sequences = []\n",
    "    filtered_appearances = {}\n",
    "    for sequence in sequences:\n",
    "        sequence = tuple(sequence)\n",
    "        if len(set(sequence)) > required_diversity:\n",
    "            filtered_sequences.append(sequence)\n",
    "            if sequence in appearances:\n",
    "                filtered_appearances[tuple(sequence)] = appearances[tuple(sequence)]\n",
    "            elif sequence[::-1] in appearances:\n",
    "                filtered_appearances[tuple(sequence[::-1])] = appearances[tuple(sequence[::-1])]\n",
    "    return filtered_sequences, filtered_appearances"
   ]
  },
  {
   "cell_type": "code",
   "execution_count": 578,
   "metadata": {},
   "outputs": [
    {
     "name": "stdout",
     "output_type": "stream",
     "text": [
      "62767\n"
     ]
    }
   ],
   "source": [
    "filtered_sequences, filtered_appearances = filter_sequences(sequences.to_numpy(), appearances, required_diversity)\n",
    "print(len(filtered_sequences))"
   ]
  },
  {
   "cell_type": "code",
   "execution_count": 579,
   "metadata": {},
   "outputs": [],
   "source": [
    "# Plot the diversity of the sequences and the filtered sequences\n",
    "def plot_diversity(sequences, filtered_sequences):\n",
    "    sequence_diversity = [len(set(sequence)) for sequence in sequences]\n",
    "    filtered_diversity = [len(set(sequence)) for sequence in filtered_sequences]\n",
    "    plt.hist(sequence_diversity, bins=k, alpha=0.5, label='All sequences')\n",
    "    plt.hist(filtered_diversity, bins=k, alpha=0.5, label='Filtered sequences')\n",
    "    plt.title(f'Diversity of sequences (k={k})')\n",
    "    plt.xlabel('Number of unique pre-synaptic neurons')\n",
    "    plt.ylabel('Number of sequences')\n",
    "    plt.legend()\n",
    "    # plt.savefig(f'sequence_diversity_k{k}.png')\n",
    "    plt.show()"
   ]
  },
  {
   "cell_type": "code",
   "execution_count": 580,
   "metadata": {},
   "outputs": [
    {
     "data": {
      "image/png": "[encoded data removed]",
      "text/plain": [
       "<Figure size 640x480 with 1 Axes>"
      ]
     },
     "metadata": {},
     "output_type": "display_data"
    }
   ],
   "source": [
    "plot_diversity(sequences.to_numpy(), filtered_sequences)"
   ]
  },
  {
   "cell_type": "code",
   "execution_count": 581,
   "metadata": {},
   "outputs": [],
   "source": [
    "# Make a plot of the diversity of the sequences versus the number of appearances\n",
    "def plot_diversity_vs_appearances(sequences, appearances):\n",
    "    sequence_diversity = [len(set(sequence)) for sequence in sequences]\n",
    "    sequence_appearances = []\n",
    "    for sequence in sequences:\n",
    "        sequence = tuple(sequence)\n",
    "        if sequence in appearances:\n",
    "            sequence_appearances.append(appearances[sequence])\n",
    "        elif sequence[::-1] in appearances:\n",
    "            sequence_appearances.append(appearances[sequence[::-1]])\n",
    "        else:\n",
    "            sequence_appearances.append(0)\n",
    "    plt.scatter(sequence_diversity, sequence_appearances, alpha=0.5)\n",
    "    plt.title(f'Diversity vs. appearances of sequences (k={k})')\n",
    "    plt.xlabel('Number of unique pre-synaptic neurons')\n",
    "    plt.ylabel('Number of appearances')\n",
    "    plt.show()"
   ]
  },
  {
   "cell_type": "code",
   "execution_count": 582,
   "metadata": {},
   "outputs": [
    {
     "data": {
      "image/png": "[encoded data removed]",
      "text/plain": [
       "<Figure size 640x480 with 1 Axes>"
      ]
     },
     "metadata": {},
     "output_type": "display_data"
    }
   ],
   "source": [
    "plot_diversity_vs_appearances(sequences.to_numpy(), appearances)"
   ]
  },
  {
   "cell_type": "code",
   "execution_count": 583,
   "metadata": {},
   "outputs": [
    {
     "data": {
      "text/html": [
       "<div>\n",
       "<style scoped>\n",
       "    .dataframe tbody tr th:only-of-type {\n",
       "        vertical-align: middle;\n",
       "    }\n",
       "\n",
       "    .dataframe tbody tr th {\n",
       "        vertical-align: top;\n",
       "    }\n",
       "\n",
       "    .dataframe thead th {\n",
       "        text-align: right;\n",
       "    }\n",
       "</style>\n",
       "<table border=\"1\" class=\"dataframe\">\n",
       "  <thead>\n",
       "    <tr style=\"text-align: right;\">\n",
       "      <th></th>\n",
       "      <th>sequence</th>\n",
       "      <th>count</th>\n",
       "      <th>diversity</th>\n",
       "    </tr>\n",
       "  </thead>\n",
       "  <tbody>\n",
       "    <tr>\n",
       "      <th>0</th>\n",
       "      <td>(864691135420483058, 864691135463697733, 86469...</td>\n",
       "      <td>1</td>\n",
       "      <td>5</td>\n",
       "    </tr>\n",
       "    <tr>\n",
       "      <th>1</th>\n",
       "      <td>(864691135776654432, 864691135776654432, 86469...</td>\n",
       "      <td>1</td>\n",
       "      <td>3</td>\n",
       "    </tr>\n",
       "    <tr>\n",
       "      <th>2</th>\n",
       "      <td>(864691135404012526, 864691135660521712, 86469...</td>\n",
       "      <td>1</td>\n",
       "      <td>2</td>\n",
       "    </tr>\n",
       "    <tr>\n",
       "      <th>3</th>\n",
       "      <td>(864691136378754261, 864691136903065778, 86469...</td>\n",
       "      <td>1</td>\n",
       "      <td>5</td>\n",
       "    </tr>\n",
       "    <tr>\n",
       "      <th>4</th>\n",
       "      <td>(864691135488499770, 864691135462245533, 86469...</td>\n",
       "      <td>1</td>\n",
       "      <td>5</td>\n",
       "    </tr>\n",
       "  </tbody>\n",
       "</table>\n",
       "</div>"
      ],
      "text/plain": [
       "                                            sequence  count  diversity\n",
       "0  (864691135420483058, 864691135463697733, 86469...      1          5\n",
       "1  (864691135776654432, 864691135776654432, 86469...      1          3\n",
       "2  (864691135404012526, 864691135660521712, 86469...      1          2\n",
       "3  (864691136378754261, 864691136903065778, 86469...      1          5\n",
       "4  (864691135488499770, 864691135462245533, 86469...      1          5"
      ]
     },
     "execution_count": 583,
     "metadata": {},
     "output_type": "execute_result"
    }
   ],
   "source": [
    "appearances_df.head()"
   ]
  },
  {
   "cell_type": "code",
   "execution_count": 584,
   "metadata": {},
   "outputs": [],
   "source": [
    "# Plot a histogram of the diversity of the sequences and the count of the sequences\n",
    "def plot_diversity_vs_count(appearances_df):\n",
    "    plt.scatter(appearances_df['diversity'], appearances_df['count'], alpha=0.5)\n",
    "    plt.title(f'Diversity vs. count of sequences (k={k})')\n",
    "    plt.xlabel('Number of unique pre-synaptic neurons')\n",
    "    plt.ylabel('Number of appearances')\n",
    "    plt.show()"
   ]
  },
  {
   "cell_type": "code",
   "execution_count": 585,
   "metadata": {},
   "outputs": [
    {
     "data": {
      "image/png": "[encoded data removed]",
      "text/plain": [
       "<Figure size 640x480 with 1 Axes>"
      ]
     },
     "metadata": {},
     "output_type": "display_data"
    }
   ],
   "source": [
    "plot_diversity_vs_count(appearances_df)"
   ]
  },
  {
   "cell_type": "code",
   "execution_count": 586,
   "metadata": {},
   "outputs": [
    {
     "data": {
      "image/png": "[encoded data removed]",
      "text/plain": [
       "<Figure size 640x480 with 1 Axes>"
      ]
     },
     "metadata": {},
     "output_type": "display_data"
    }
   ],
   "source": [
    "values, bins = [], []\n",
    "error_bars = []\n",
    "for i in range(k):\n",
    "    bins.append(i+1)\n",
    "    values.append(appearances_df.loc[appearances_df['diversity'] == i+1, 'count'].mean())\n",
    "    error_bars.append(appearances_df.loc[appearances_df['diversity'] == i+1, 'count'].std())\n",
    "plt.bar(bins, values)\n",
    "plt.errorbar(bins, values, yerr=error_bars, fmt='None', ecolor='black')\n",
    "plt.title(f'Appear vs Average Appearance (k={k})')\n",
    "plt.xlabel('Number of unique pre-synaptic neurons')\n",
    "plt.ylabel('Average number of appearances')\n",
    "plt.show()"
   ]
  },
  {
   "cell_type": "code",
   "execution_count": 587,
   "metadata": {},
   "outputs": [
    {
     "data": {
      "image/png": "[encoded data removed]",
      "text/plain": [
       "<Figure size 640x480 with 1 Axes>"
      ]
     },
     "metadata": {},
     "output_type": "display_data"
    }
   ],
   "source": [
    "# Plot average diversity for each number of appearances with error bars\n",
    "values, bins = [], []\n",
    "error_bars = []\n",
    "low_bound = appearances_df['count'].min()\n",
    "high_bound = appearances_df['count'].max()\n",
    "for i in range(low_bound, high_bound+1):\n",
    "    bins.append(i)\n",
    "    values.append(appearances_df.loc[appearances_df['count'] == i, 'diversity'].mean())\n",
    "    error_bars.append(appearances_df.loc[appearances_df['count'] == i, 'diversity'].std())\n",
    "plt.bar(bins, values)\n",
    "plt.errorbar(bins, values, yerr=error_bars, fmt='None', ecolor='black')\n",
    "plt.title(f'Appearances vs Diversity (k={k})')\n",
    "plt.xlabel('Nnumber of appearances')\n",
    "plt.ylabel('Average number of unique pre-synaptic neurons')\n",
    "# plt.savefig(f'appearances_vs_diversity_k{k}.png')\n",
    "plt.show()"
   ]
  },
  {
   "cell_type": "code",
   "execution_count": 588,
   "metadata": {},
   "outputs": [],
   "source": [
    "display()"
   ]
  }
 ],
 "metadata": {
  "kernelspec": {
   "display_name": "microns",
   "language": "python",
   "name": "python3"
  },
  "language_info": {
   "codemirror_mode": {
    "name": "ipython",
    "version": 3
   },
   "file_extension": ".py",
   "mimetype": "text/x-python",
   "name": "python",
   "nbconvert_exporter": "python",
   "pygments_lexer": "ipython3",
   "version": "3.8.10"
  },
  "orig_nbformat": 4
 },
 "nbformat": 4,
 "nbformat_minor": 2
}

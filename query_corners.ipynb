{
 "cells": [
  {
   "cell_type": "code",
   "execution_count": 76,
   "metadata": {},
   "outputs": [],
   "source": [
    "import numpy as np\n",
    "import pandas as pd\n",
    "import matplotlib.pyplot as plt\n",
    "from caveclient import CAVEclient\n",
    "from requests.exceptions import HTTPError"
   ]
  },
  {
   "cell_type": "markdown",
   "metadata": {},
   "source": [
    "Here's what I'm going to do:\n",
    "\n",
    "1. I'm going to identify the root IDs of the post-synaptic cells I want to observe.\n",
    "2. I'm going to query the entire synapse table for each of these IDs.\n",
    "3. I'm going to extract the synapse locations from the synapse table.\n",
    "4. I'm going to generate a minimum spanning tree from the synapse locations.\n",
    "5. I'm going to extract the branch sequences from the minimum spanning tree.\n",
    "6. I'm going to calculate the error between these branch sequences and those I find from just the excitatory synapses.\n",
    "\n",
    "Need:\n",
    "1. Corner ID's (5th, 50th, 95th percentile input degree for each cell type)\n",
    "2. Synapse table for each corner\n",
    "3. Algorithm for extracting branch sequences from MST\n",
    "4. Algorithm for calculating error between branch sequences"
   ]
  },
  {
   "cell_type": "code",
   "execution_count": 77,
   "metadata": {},
   "outputs": [],
   "source": [
    "# Versions: 117 and 343 and 661\n",
    "client = CAVEclient('minnie65_public_v343')"
   ]
  },
  {
   "cell_type": "code",
   "execution_count": 78,
   "metadata": {},
   "outputs": [
    {
     "data": {
      "text/plain": [
       "['synapses_pni_2',\n",
       " 'nucleus_neuron_svm',\n",
       " 'nucleus_detection_v0',\n",
       " 'functional_coreg',\n",
       " 'allen_v1_column_types_slanted',\n",
       " 'aibs_column_nonneuronal',\n",
       " 'func_unit_em_match_release',\n",
       " 'proofreading_status_public_release',\n",
       " 'aibs_soma_nuc_metamodel_preds_v117']"
      ]
     },
     "execution_count": 78,
     "metadata": {},
     "output_type": "execute_result"
    }
   ],
   "source": [
    "client.materialize.get_tables()"
   ]
  },
  {
   "cell_type": "code",
   "execution_count": 91,
   "metadata": {},
   "outputs": [
    {
     "data": {
      "text/plain": [
       "171815"
      ]
     },
     "execution_count": 91,
     "metadata": {},
     "output_type": "execute_result"
    }
   ],
   "source": [
    "client.materialize.get_annotation_count('nucleus_neuron_svm')"
   ]
  },
  {
   "cell_type": "code",
   "execution_count": 92,
   "metadata": {},
   "outputs": [
    {
     "data": {
      "text/plain": [
       "144120"
      ]
     },
     "execution_count": 92,
     "metadata": {},
     "output_type": "execute_result"
    }
   ],
   "source": [
    "client.materialize.get_annotation_count('nucleus_detection_v0')"
   ]
  },
  {
   "cell_type": "code",
   "execution_count": 79,
   "metadata": {},
   "outputs": [
    {
     "data": {
      "text/plain": [
       "{'schema': 'nucleus_detection',\n",
       " 'valid': True,\n",
       " 'id': 8214,\n",
       " 'aligned_volume': 'minnie65_phase3',\n",
       " 'table_name': 'nucleus_detection_v0__minnie3_v1',\n",
       " 'created': '2020-11-02T18:56:35.530100',\n",
       " 'schema_type': 'nucleus_detection',\n",
       " 'user_id': '121',\n",
       " 'description': 'A table of nuclei detections from a nucleus detection model developed by Shang Mu, Leila Elabbady, Gayathri Mahalingam and Forrest Collman. Pt is the centroid of the nucleus detection. id corresponds to the flat_segmentation_source segmentID. Only included nucleus detections of volume>25 um^3, below which detections are false positives, though some false positives above that threshold remain. ',\n",
       " 'notice_text': None,\n",
       " 'reference_table': None,\n",
       " 'flat_segmentation_source': 'precomputed://https://bossdb-open-data.s3.amazonaws.com/iarpa_microns/minnie/minnie65/nuclei',\n",
       " 'write_permission': 'PRIVATE',\n",
       " 'read_permission': 'PUBLIC',\n",
       " 'last_modified': '2022-10-25T19:24:28.559914',\n",
       " 'segmentation_source': '',\n",
       " 'pcg_table_name': 'minnie3_v1',\n",
       " 'last_updated': '2023-08-02T17:00:00.264254',\n",
       " 'annotation_table': 'nucleus_detection_v0',\n",
       " 'voxel_resolution': [4.0, 4.0, 40.0]}"
      ]
     },
     "execution_count": 79,
     "metadata": {},
     "output_type": "execute_result"
    }
   ],
   "source": [
    "client.materialize.get_table_metadata('nucleus_detection_v0')"
   ]
  },
  {
   "cell_type": "code",
   "execution_count": 80,
   "metadata": {},
   "outputs": [
    {
     "data": {
      "text/html": [
       "<div>\n",
       "<style scoped>\n",
       "    .dataframe tbody tr th:only-of-type {\n",
       "        vertical-align: middle;\n",
       "    }\n",
       "\n",
       "    .dataframe tbody tr th {\n",
       "        vertical-align: top;\n",
       "    }\n",
       "\n",
       "    .dataframe thead th {\n",
       "        text-align: right;\n",
       "    }\n",
       "</style>\n",
       "<table border=\"1\" class=\"dataframe\">\n",
       "  <thead>\n",
       "    <tr style=\"text-align: right;\">\n",
       "      <th></th>\n",
       "      <th>pre_pt_root_id</th>\n",
       "      <th>post_pt_root_id</th>\n",
       "      <th>size</th>\n",
       "      <th>cell_type_pre</th>\n",
       "      <th>cb_x_pre</th>\n",
       "      <th>cb_y_pre</th>\n",
       "      <th>cb_z_pre</th>\n",
       "      <th>cell_type_post</th>\n",
       "      <th>cb_x_post</th>\n",
       "      <th>cb_y_post</th>\n",
       "      <th>cb_z_post</th>\n",
       "      <th>cb_x_diff</th>\n",
       "      <th>cb_y_diff</th>\n",
       "      <th>cb_z_diff</th>\n",
       "      <th>ctr_pt_x</th>\n",
       "      <th>ctr_pt_y</th>\n",
       "      <th>ctr_pt_z</th>\n",
       "    </tr>\n",
       "    <tr>\n",
       "      <th>synapse_id</th>\n",
       "      <th></th>\n",
       "      <th></th>\n",
       "      <th></th>\n",
       "      <th></th>\n",
       "      <th></th>\n",
       "      <th></th>\n",
       "      <th></th>\n",
       "      <th></th>\n",
       "      <th></th>\n",
       "      <th></th>\n",
       "      <th></th>\n",
       "      <th></th>\n",
       "      <th></th>\n",
       "      <th></th>\n",
       "      <th></th>\n",
       "      <th></th>\n",
       "      <th></th>\n",
       "    </tr>\n",
       "  </thead>\n",
       "  <tbody>\n",
       "    <tr>\n",
       "      <th>0</th>\n",
       "      <td>864691135564683351</td>\n",
       "      <td>864691136811959667</td>\n",
       "      <td>960</td>\n",
       "      <td>23P</td>\n",
       "      <td>557.248</td>\n",
       "      <td>570.560</td>\n",
       "      <td>732.52</td>\n",
       "      <td>23P</td>\n",
       "      <td>791.744</td>\n",
       "      <td>483.968</td>\n",
       "      <td>780.44</td>\n",
       "      <td>-234.496</td>\n",
       "      <td>86.592</td>\n",
       "      <td>-47.92</td>\n",
       "      <td>637.608</td>\n",
       "      <td>371.352</td>\n",
       "      <td>720.20</td>\n",
       "    </tr>\n",
       "    <tr>\n",
       "      <th>1</th>\n",
       "      <td>864691135614119115</td>\n",
       "      <td>864691135508912649</td>\n",
       "      <td>7576</td>\n",
       "      <td>23P</td>\n",
       "      <td>774.720</td>\n",
       "      <td>504.960</td>\n",
       "      <td>895.68</td>\n",
       "      <td>23P</td>\n",
       "      <td>807.936</td>\n",
       "      <td>459.584</td>\n",
       "      <td>870.28</td>\n",
       "      <td>-33.216</td>\n",
       "      <td>45.376</td>\n",
       "      <td>25.40</td>\n",
       "      <td>805.376</td>\n",
       "      <td>488.376</td>\n",
       "      <td>863.60</td>\n",
       "    </tr>\n",
       "    <tr>\n",
       "      <th>3</th>\n",
       "      <td>864691135113147801</td>\n",
       "      <td>864691136022555784</td>\n",
       "      <td>684</td>\n",
       "      <td>23P</td>\n",
       "      <td>883.072</td>\n",
       "      <td>451.456</td>\n",
       "      <td>817.84</td>\n",
       "      <td>23P</td>\n",
       "      <td>851.520</td>\n",
       "      <td>483.840</td>\n",
       "      <td>759.96</td>\n",
       "      <td>31.552</td>\n",
       "      <td>-32.384</td>\n",
       "      <td>57.88</td>\n",
       "      <td>858.328</td>\n",
       "      <td>516.648</td>\n",
       "      <td>775.88</td>\n",
       "    </tr>\n",
       "    <tr>\n",
       "      <th>4</th>\n",
       "      <td>864691135194393642</td>\n",
       "      <td>864691135341362885</td>\n",
       "      <td>23172</td>\n",
       "      <td>23P</td>\n",
       "      <td>781.248</td>\n",
       "      <td>449.984</td>\n",
       "      <td>696.88</td>\n",
       "      <td>23P</td>\n",
       "      <td>798.720</td>\n",
       "      <td>465.152</td>\n",
       "      <td>758.56</td>\n",
       "      <td>-17.472</td>\n",
       "      <td>-15.168</td>\n",
       "      <td>-61.68</td>\n",
       "      <td>789.400</td>\n",
       "      <td>478.040</td>\n",
       "      <td>691.00</td>\n",
       "    </tr>\n",
       "    <tr>\n",
       "      <th>5</th>\n",
       "      <td>864691136272938174</td>\n",
       "      <td>864691135683554546</td>\n",
       "      <td>3660</td>\n",
       "      <td>23P</td>\n",
       "      <td>762.368</td>\n",
       "      <td>473.792</td>\n",
       "      <td>773.68</td>\n",
       "      <td>23P</td>\n",
       "      <td>820.352</td>\n",
       "      <td>446.784</td>\n",
       "      <td>719.08</td>\n",
       "      <td>-57.984</td>\n",
       "      <td>27.008</td>\n",
       "      <td>54.60</td>\n",
       "      <td>756.624</td>\n",
       "      <td>440.928</td>\n",
       "      <td>710.60</td>\n",
       "    </tr>\n",
       "  </tbody>\n",
       "</table>\n",
       "</div>"
      ],
      "text/plain": [
       "                pre_pt_root_id     post_pt_root_id   size cell_type_pre  \\\n",
       "synapse_id                                                                \n",
       "0           864691135564683351  864691136811959667    960           23P   \n",
       "1           864691135614119115  864691135508912649   7576           23P   \n",
       "3           864691135113147801  864691136022555784    684           23P   \n",
       "4           864691135194393642  864691135341362885  23172           23P   \n",
       "5           864691136272938174  864691135683554546   3660           23P   \n",
       "\n",
       "            cb_x_pre  cb_y_pre  cb_z_pre cell_type_post  cb_x_post  cb_y_post  \\\n",
       "synapse_id                                                                      \n",
       "0            557.248   570.560    732.52            23P    791.744    483.968   \n",
       "1            774.720   504.960    895.68            23P    807.936    459.584   \n",
       "3            883.072   451.456    817.84            23P    851.520    483.840   \n",
       "4            781.248   449.984    696.88            23P    798.720    465.152   \n",
       "5            762.368   473.792    773.68            23P    820.352    446.784   \n",
       "\n",
       "            cb_z_post  cb_x_diff  cb_y_diff  cb_z_diff  ctr_pt_x  ctr_pt_y  \\\n",
       "synapse_id                                                                   \n",
       "0              780.44   -234.496     86.592     -47.92   637.608   371.352   \n",
       "1              870.28    -33.216     45.376      25.40   805.376   488.376   \n",
       "3              759.96     31.552    -32.384      57.88   858.328   516.648   \n",
       "4              758.56    -17.472    -15.168     -61.68   789.400   478.040   \n",
       "5              719.08    -57.984     27.008      54.60   756.624   440.928   \n",
       "\n",
       "            ctr_pt_z  \n",
       "synapse_id            \n",
       "0             720.20  \n",
       "1             863.60  \n",
       "3             775.88  \n",
       "4             691.00  \n",
       "5             710.60  "
      ]
     },
     "metadata": {},
     "output_type": "display_data"
    }
   ],
   "source": [
    "# Import synapse data\n",
    "synapses = pd.read_csv('data/synapses_w_ids.csv', index_col=0)\n",
    "synapses.set_index('synapse_id', inplace=True)\n",
    "display(synapses.head())"
   ]
  },
  {
   "cell_type": "code",
   "execution_count": 81,
   "metadata": {},
   "outputs": [],
   "source": [
    "synapses_by_ct = synapses.groupby('cell_type_post')"
   ]
  },
  {
   "cell_type": "code",
   "execution_count": 82,
   "metadata": {},
   "outputs": [
    {
     "name": "stdout",
     "output_type": "stream",
     "text": [
      "7\n"
     ]
    }
   ],
   "source": [
    "corners = {}\n",
    "\n",
    "for cell_type, syns in synapses_by_ct:\n",
    "    synapses_by_cell = syns.groupby('post_pt_root_id')\n",
    "\n",
    "    cells_inputs = []\n",
    "    for cell_id, input_degree in synapses_by_cell.size().items():\n",
    "        cells_inputs.append((cell_id, input_degree))\n",
    "\n",
    "    # Sort cells_inputs in ascending order by input_degree\n",
    "    cells_inputs.sort(key=lambda x: x[1])\n",
    "\n",
    "    # Get the cell_ids and input_degres of the 5th, 95th, and 50th percentiles\n",
    "    sparse = cells_inputs[len(cells_inputs) * 5 // 100]\n",
    "    mid = cells_inputs[len(cells_inputs) * 50 // 100]\n",
    "    dense = cells_inputs[len(cells_inputs) * 95 // 100]\n",
    "\n",
    "    corners[cell_type] = {\n",
    "        'input_degrees': [sparse[1], mid[1], dense[1]],\n",
    "        'cell_ids': [sparse[0], mid[0], dense[0]]\n",
    "    }\n",
    "\n",
    "print(len(corners))"
   ]
  },
  {
   "cell_type": "code",
   "execution_count": 83,
   "metadata": {},
   "outputs": [
    {
     "name": "stdout",
     "output_type": "stream",
     "text": [
      "23P\n",
      "[864691135358817112, 864691135771609595, 864691135490583527] [18, 74, 165]\n",
      "4P\n",
      "[864691136123745830, 864691135162227501, 864691135888625289] [22, 88, 185]\n",
      "5P-ET\n",
      "[864691135472337458, 864691136296648219, 864691136370941832] [41, 272, 645]\n",
      "5P-IT\n",
      "[864691136272995518, 864691136877143406, 864691135012425718] [21, 108, 256]\n",
      "5P-NP\n",
      "[864691135467833424, 864691135338006502, 864691134884768250] [4, 36, 81]\n",
      "6P-CT\n",
      "[864691135753666509, 864691136109199032, 864691136418869655] [24, 86, 157]\n",
      "6P-IT\n",
      "[864691135739594644, 864691134884753914, 864691135621575108] [15, 78, 154]\n"
     ]
    }
   ],
   "source": [
    "for cell_type, corner in corners.items():\n",
    "    print(cell_type)\n",
    "    print(corner['cell_ids'], corner['input_degrees'])"
   ]
  },
  {
   "cell_type": "code",
   "execution_count": 84,
   "metadata": {},
   "outputs": [],
   "source": [
    "# Query the complete synapse table for each corner\n",
    "# percentiles = [5, 50, 95]\n",
    "# for cell_type, corner in corners.items():\n",
    "#     for i, cell_id in enumerate(corner['cell_ids']):\n",
    "#         print(cell_id, corner['input_degrees'][i])\n",
    "#         try:\n",
    "#             syns = client.materialize.query_table('synapses_pni_2',\n",
    "#                                                   filter_equal_dict={'post_pt_root_id': cell_id})\n",
    "#             syns.to_csv(f'data/corners/{cell_type}_corner_{percentiles[i]}.csv')\n",
    "#         except HTTPError as e:\n",
    "#             print(e)\n",
    "# print('Done')"
   ]
  },
  {
   "cell_type": "code",
   "execution_count": 85,
   "metadata": {},
   "outputs": [
    {
     "name": "stdout",
     "output_type": "stream",
     "text": [
      "(56209, 5)\n"
     ]
    },
    {
     "data": {
      "text/html": [
       "<div>\n",
       "<style scoped>\n",
       "    .dataframe tbody tr th:only-of-type {\n",
       "        vertical-align: middle;\n",
       "    }\n",
       "\n",
       "    .dataframe tbody tr th {\n",
       "        vertical-align: top;\n",
       "    }\n",
       "\n",
       "    .dataframe thead th {\n",
       "        text-align: right;\n",
       "    }\n",
       "</style>\n",
       "<table border=\"1\" class=\"dataframe\">\n",
       "  <thead>\n",
       "    <tr style=\"text-align: right;\">\n",
       "      <th></th>\n",
       "      <th>cell_type</th>\n",
       "      <th>pt_root_id</th>\n",
       "      <th>pt_x</th>\n",
       "      <th>pt_y</th>\n",
       "      <th>pt_z</th>\n",
       "    </tr>\n",
       "    <tr>\n",
       "      <th>Unnamed: 0</th>\n",
       "      <th></th>\n",
       "      <th></th>\n",
       "      <th></th>\n",
       "      <th></th>\n",
       "      <th></th>\n",
       "    </tr>\n",
       "  </thead>\n",
       "  <tbody>\n",
       "    <tr>\n",
       "      <th>0</th>\n",
       "      <td>23P</td>\n",
       "      <td>864691135639004475</td>\n",
       "      <td>71136</td>\n",
       "      <td>110528</td>\n",
       "      <td>20220</td>\n",
       "    </tr>\n",
       "    <tr>\n",
       "      <th>1</th>\n",
       "      <td>23P</td>\n",
       "      <td>864691135771677771</td>\n",
       "      <td>72576</td>\n",
       "      <td>108656</td>\n",
       "      <td>20291</td>\n",
       "    </tr>\n",
       "    <tr>\n",
       "      <th>2</th>\n",
       "      <td>23P</td>\n",
       "      <td>864691135864089470</td>\n",
       "      <td>79632</td>\n",
       "      <td>121456</td>\n",
       "      <td>16754</td>\n",
       "    </tr>\n",
       "    <tr>\n",
       "      <th>3</th>\n",
       "      <td>23P</td>\n",
       "      <td>864691135560505569</td>\n",
       "      <td>80128</td>\n",
       "      <td>124000</td>\n",
       "      <td>16563</td>\n",
       "    </tr>\n",
       "    <tr>\n",
       "      <th>4</th>\n",
       "      <td>23P</td>\n",
       "      <td>864691136315868311</td>\n",
       "      <td>80144</td>\n",
       "      <td>126928</td>\n",
       "      <td>16622</td>\n",
       "    </tr>\n",
       "  </tbody>\n",
       "</table>\n",
       "</div>"
      ],
      "text/plain": [
       "           cell_type          pt_root_id   pt_x    pt_y   pt_z\n",
       "Unnamed: 0                                                    \n",
       "0                23P  864691135639004475  71136  110528  20220\n",
       "1                23P  864691135771677771  72576  108656  20291\n",
       "2                23P  864691135864089470  79632  121456  16754\n",
       "3                23P  864691135560505569  80128  124000  16563\n",
       "4                23P  864691136315868311  80144  126928  16622"
      ]
     },
     "metadata": {},
     "output_type": "display_data"
    }
   ],
   "source": [
    "# Import cells table\n",
    "excitatory_cells = pd.read_csv('data/cells_no_repeats.csv', index_col=0)\n",
    "print(excitatory_cells.shape)\n",
    "display(excitatory_cells.head())"
   ]
  },
  {
   "cell_type": "code",
   "execution_count": 86,
   "metadata": {},
   "outputs": [
    {
     "name": "stdout",
     "output_type": "stream",
     "text": [
      "56209\n"
     ]
    }
   ],
   "source": [
    "unique_exc_ids = excitatory_cells['pt_root_id'].unique()\n",
    "print(len(unique_exc_ids))"
   ]
  },
  {
   "cell_type": "code",
   "execution_count": 100,
   "metadata": {},
   "outputs": [
    {
     "name": "stdout",
     "output_type": "stream",
     "text": [
      "(144120, 2)\n"
     ]
    }
   ],
   "source": [
    "# Query the nuclues_detection_v0 table for every excitatory cell's volume\n",
    "nuclei = client.materialize.query_table('nucleus_detection_v0',\n",
    "                                        select_columns=['pt_root_id', 'volume'])\n",
    "print(nuclei.shape)"
   ]
  },
  {
   "cell_type": "code",
   "execution_count": 126,
   "metadata": {},
   "outputs": [
    {
     "name": "stdout",
     "output_type": "stream",
     "text": [
      "(59372, 2)\n"
     ]
    }
   ],
   "source": [
    "exc_nuclei = nuclei[nuclei['pt_root_id'].isin(unique_exc_ids)]\n",
    "print(exc_nuclei.shape)"
   ]
  },
  {
   "cell_type": "code",
   "execution_count": 127,
   "metadata": {},
   "outputs": [
    {
     "name": "stdout",
     "output_type": "stream",
     "text": [
      "56209\n"
     ]
    }
   ],
   "source": [
    "exc_nuclei_by_id = exc_nuclei.groupby('pt_root_id')\n",
    "print(len(exc_nuclei_by_id))"
   ]
  },
  {
   "cell_type": "code",
   "execution_count": 128,
   "metadata": {},
   "outputs": [
    {
     "data": {
      "text/plain": [
       "[(864691135233407577,\n",
       "                  pt_root_id     volume\n",
       "  25603   864691135233407577  48.723886\n",
       "  25746   864691135233407577  58.168771\n",
       "  26939   864691135233407577  55.692165\n",
       "  31165   864691135233407577  60.822815\n",
       "  31930   864691135233407577  46.284964\n",
       "  ...                    ...        ...\n",
       "  142032  864691135233407577  49.735107\n",
       "  142033  864691135233407577  45.048627\n",
       "  142034  864691135233407577  48.877404\n",
       "  142035  864691135233407577  49.579295\n",
       "  142036  864691135233407577  46.421934\n",
       "  \n",
       "  [170 rows x 2 columns]),\n",
       " (864691134988798074,\n",
       "                  pt_root_id     volume\n",
       "  77300   864691134988798074  52.994703\n",
       "  77749   864691134988798074  37.316362\n",
       "  78040   864691134988798074  60.976497\n",
       "  78041   864691134988798074  51.292242\n",
       "  78353   864691134988798074  49.246700\n",
       "  ...                    ...        ...\n",
       "  141943  864691134988798074  32.885473\n",
       "  141944  864691134988798074  68.346020\n",
       "  141960  864691134988798074  45.695468\n",
       "  141961  864691134988798074  48.072294\n",
       "  141962  864691134988798074  49.955144\n",
       "  \n",
       "  [106 rows x 2 columns]),\n",
       " (864691135864698076,\n",
       "                  pt_root_id      volume\n",
       "  109788  864691135864698076  105.979249\n",
       "  117736  864691135864698076   48.696361\n",
       "  117737  864691135864698076   36.378706\n",
       "  125293  864691135864698076   38.504694\n",
       "  125392  864691135864698076  281.796608\n",
       "  125502  864691135864698076   40.776008\n",
       "  125831  864691135864698076   98.725888\n",
       "  125858  864691135864698076   97.921434\n",
       "  130462  864691135864698076   51.208356\n",
       "  130716  864691135864698076   53.809480\n",
       "  130940  864691135864698076   54.669640\n",
       "  130949  864691135864698076   40.796324\n",
       "  130962  864691135864698076   37.228216\n",
       "  130970  864691135864698076   39.899136\n",
       "  130971  864691135864698076   53.177385\n",
       "  131511  864691135864698076   46.276608\n",
       "  131849  864691135864698076   38.839583\n",
       "  131945  864691135864698076   40.106066\n",
       "  136119  864691135864698076   48.189932\n",
       "  136636  864691135864698076   80.650568\n",
       "  136637  864691135864698076   48.185836\n",
       "  136655  864691135864698076   51.847987\n",
       "  136678  864691135864698076   52.415365\n",
       "  136707  864691135864698076   81.706025\n",
       "  136710  864691135864698076   44.947866\n",
       "  136727  864691135864698076   51.467223\n",
       "  136731  864691135864698076   48.900342\n",
       "  136732  864691135864698076   48.299049\n",
       "  136762  864691135864698076   47.488041\n",
       "  136765  864691135864698076   40.459305\n",
       "  136798  864691135864698076   38.414418\n",
       "  136815  864691135864698076   47.717581),\n",
       " (864691135132921504,\n",
       "                  pt_root_id      volume\n",
       "  25883   864691135132921504   41.080422\n",
       "  25893   864691135132921504   42.707190\n",
       "  26204   864691135132921504   31.924716\n",
       "  28459   864691135132921504   48.828088\n",
       "  29059   864691135132921504   53.237678\n",
       "  29060   864691135132921504   40.205844\n",
       "  39339   864691135132921504   40.251556\n",
       "  39644   864691135132921504   44.993085\n",
       "  39645   864691135132921504   43.819172\n",
       "  39646   864691135132921504   45.333381\n",
       "  48606   864691135132921504  241.665966\n",
       "  49068   864691135132921504   74.924687\n",
       "  51753   864691135132921504  263.249592\n",
       "  51754   864691135132921504  327.348060\n",
       "  142377  864691135132921504   28.484076\n",
       "  142378  864691135132921504   49.079583\n",
       "  142380  864691135132921504   47.694643\n",
       "  142381  864691135132921504   48.444703\n",
       "  142382  864691135132921504   36.969349\n",
       "  142383  864691135132921504   36.525834),\n",
       " (864691135407558601,\n",
       "                  pt_root_id      volume\n",
       "  104162  864691135407558601   84.441334\n",
       "  116955  864691135407558601  230.780600\n",
       "  123348  864691135407558601  136.807055\n",
       "  123964  864691135407558601  304.808264\n",
       "  125633  864691135407558601  116.212695\n",
       "  138475  864691135407558601  401.338532\n",
       "  138476  864691135407558601  324.662886\n",
       "  138477  864691135407558601  273.790894\n",
       "  138478  864691135407558601   86.574694\n",
       "  138479  864691135407558601  229.439898\n",
       "  138480  864691135407558601  373.866824\n",
       "  138481  864691135407558601  323.971973\n",
       "  138482  864691135407558601  303.816868\n",
       "  142152  864691135407558601  254.916854\n",
       "  142179  864691135407558601  316.481700\n",
       "  142195  864691135407558601  104.724890)]"
      ]
     },
     "metadata": {},
     "output_type": "display_data"
    }
   ],
   "source": [
    "# Sort the groups by nucleus count\n",
    "exc_nuclei_by_id_sorted = sorted(exc_nuclei_by_id, key=lambda x: len(x[1]), reverse=True)\n",
    "display(exc_nuclei_by_id_sorted[:5])"
   ]
  },
  {
   "cell_type": "code",
   "execution_count": 145,
   "metadata": {},
   "outputs": [
    {
     "name": "stdout",
     "output_type": "stream",
     "text": [
      "(2055,)\n",
      "[[864691135233407577                170]\n",
      " [864691134988798074                106]\n",
      " [864691135864698076                 32]\n",
      " ...\n",
      " [864691137196913729                  2]\n",
      " [864691137196953409                  2]\n",
      " [864691137197179713                  2]]\n"
     ]
    }
   ],
   "source": [
    "exc_nuclei_counts = np.array([(cell_id, len(nuclei)) for cell_id, nuclei in exc_nuclei_by_id_sorted])\n",
    "print(np.where(exc_nuclei_counts[:, 1] > 1)[0].shape)\n",
    "print(exc_nuclei_counts[np.where(exc_nuclei_counts[:, 1] > 1)[0]])"
   ]
  },
  {
   "cell_type": "code",
   "execution_count": 144,
   "metadata": {},
   "outputs": [
    {
     "data": {
      "text/plain": [
       "0.03655998149762493"
      ]
     },
     "execution_count": 144,
     "metadata": {},
     "output_type": "execute_result"
    }
   ],
   "source": [
    "2055 / len(exc_nuclei_counts)"
   ]
  },
  {
   "cell_type": "code",
   "execution_count": 131,
   "metadata": {},
   "outputs": [
    {
     "name": "stdout",
     "output_type": "stream",
     "text": [
      "(56209, 2)\n"
     ]
    },
    {
     "data": {
      "text/html": [
       "<div>\n",
       "<style scoped>\n",
       "    .dataframe tbody tr th:only-of-type {\n",
       "        vertical-align: middle;\n",
       "    }\n",
       "\n",
       "    .dataframe tbody tr th {\n",
       "        vertical-align: top;\n",
       "    }\n",
       "\n",
       "    .dataframe thead th {\n",
       "        text-align: right;\n",
       "    }\n",
       "</style>\n",
       "<table border=\"1\" class=\"dataframe\">\n",
       "  <thead>\n",
       "    <tr style=\"text-align: right;\">\n",
       "      <th></th>\n",
       "      <th>pt_root_id</th>\n",
       "      <th>volume</th>\n",
       "    </tr>\n",
       "  </thead>\n",
       "  <tbody>\n",
       "    <tr>\n",
       "      <th>219</th>\n",
       "      <td>864691135639004475</td>\n",
       "      <td>343.540531</td>\n",
       "    </tr>\n",
       "    <tr>\n",
       "      <th>222</th>\n",
       "      <td>864691135771677771</td>\n",
       "      <td>301.426115</td>\n",
       "    </tr>\n",
       "    <tr>\n",
       "      <th>368</th>\n",
       "      <td>864691135864089470</td>\n",
       "      <td>256.422216</td>\n",
       "    </tr>\n",
       "    <tr>\n",
       "      <th>369</th>\n",
       "      <td>864691135560505569</td>\n",
       "      <td>263.637074</td>\n",
       "    </tr>\n",
       "    <tr>\n",
       "      <th>370</th>\n",
       "      <td>864691136315868311</td>\n",
       "      <td>233.121055</td>\n",
       "    </tr>\n",
       "  </tbody>\n",
       "</table>\n",
       "</div>"
      ],
      "text/plain": [
       "             pt_root_id      volume\n",
       "219  864691135639004475  343.540531\n",
       "222  864691135771677771  301.426115\n",
       "368  864691135864089470  256.422216\n",
       "369  864691135560505569  263.637074\n",
       "370  864691136315868311  233.121055"
      ]
     },
     "metadata": {},
     "output_type": "display_data"
    }
   ],
   "source": [
    "exc_nuclei_no_repeats = exc_nuclei.drop_duplicates(subset=['pt_root_id'])\n",
    "print(exc_nuclei_no_repeats.shape)\n",
    "display(exc_nuclei_no_repeats.head())"
   ]
  },
  {
   "cell_type": "code",
   "execution_count": 132,
   "metadata": {},
   "outputs": [],
   "source": [
    "def calc_radius(volume):\n",
    "    return (3 * volume / (4 * np.pi)) ** (1 / 3)"
   ]
  }
 ],
 "metadata": {
  "kernelspec": {
   "display_name": "microns",
   "language": "python",
   "name": "python3"
  },
  "language_info": {
   "codemirror_mode": {
    "name": "ipython",
    "version": 3
   },
   "file_extension": ".py",
   "mimetype": "text/x-python",
   "name": "python",
   "nbconvert_exporter": "python",
   "pygments_lexer": "ipython3",
   "version": "3.8.10"
  },
  "orig_nbformat": 4
 },
 "nbformat": 4,
 "nbformat_minor": 2
}
